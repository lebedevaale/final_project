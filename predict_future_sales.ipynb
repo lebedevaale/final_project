{
 "cells": [
  {
   "cell_type": "markdown",
   "metadata": {
    "_uuid": "55f0ed2ac468f0eb59c24726ca0c9bdc8884c345",
    "id": "bJXdcntGtodO",
    "papermill": {
     "duration": 0.044148,
     "end_time": "2021-01-21T09:02:26.908935",
     "exception": false,
     "start_time": "2021-01-21T09:02:26.864787",
     "status": "completed"
    },
    "tags": []
   },
   "source": [
    "This notebook was made for Predict Future Sales competition on Kaggle.\n",
    "Some of the feature generation ideas were borrowed from this notebook:\n",
    "kaggle.com/homiarafarhana/predict-future-sales\n",
    "\n",
    "## Contents\n",
    "\n",
    "#### Data extraction\n",
    "* load data\n",
    "* check data\n",
    "\n",
    "#### Data improvement\n",
    "* improve shop data\n",
    "* improve item categories data\n",
    "* improve items data\n",
    "* prepare grid for feature generation\n",
    "* join train and test sets\n",
    "\n",
    "#### Features engeneering\n",
    "* add data for lags generation\n",
    "* generate lags\n",
    "* add trend features\n",
    "* add month and year\n",
    "\n",
    "#### Modelling and training\n",
    "* initialize models\n",
    "* insert training data into all of the models\n",
    "\n",
    "#### Submission data\n",
    "* predict target data with models\n",
    "* ensemble predictions\n",
    "* create submission"
   ]
  },
  {
   "cell_type": "code",
   "execution_count": 1,
   "metadata": {
    "colab": {
     "base_uri": "https://localhost:8080/"
    },
    "executionInfo": {
     "elapsed": 16814,
     "status": "ok",
     "timestamp": 1612453930316,
     "user": {
      "displayName": "Андрей Лебедев",
      "photoUrl": "https://lh3.googleusercontent.com/a-/AOh14GgXFqF2-mYIOCwrGWlaOWxYeJwApY2NV0JByqh93w=s64",
      "userId": "16435059183355096227"
     },
     "user_tz": -180
    },
    "id": "ZbBvD9DOtz5c",
    "outputId": "ebdc13ad-eb4b-4b79-f6cc-2e5f41606069"
   },
   "outputs": [
    {
     "name": "stdout",
     "output_type": "stream",
     "text": [
      "Mounted at /content/drive\n"
     ]
    }
   ],
   "source": [
    "#from google.colab import drive\n",
    "#drive.mount('/content/drive')"
   ]
  },
  {
   "cell_type": "markdown",
   "metadata": {
    "_uuid": "f03379ee467570732ebb2b3d20062fea0584d57d",
    "id": "7OnI-2yytodT",
    "papermill": {
     "duration": 0.04231,
     "end_time": "2021-01-21T09:02:26.993798",
     "exception": false,
     "start_time": "2021-01-21T09:02:26.951488",
     "status": "completed"
    },
    "tags": []
   },
   "source": [
    "## Data extraction"
   ]
  },
  {
   "cell_type": "code",
   "execution_count": 52,
   "metadata": {
    "_cell_guid": "b1076dfc-b9ad-4769-8c92-a6c4dae69d19",
    "_uuid": "8f2839f25d086af736a60e9eeb907d3b93b6e0e5",
    "execution": {
     "iopub.execute_input": "2021-01-21T09:02:27.090130Z",
     "iopub.status.busy": "2021-01-21T09:02:27.089436Z",
     "iopub.status.idle": "2021-01-21T09:02:28.194260Z",
     "shell.execute_reply": "2021-01-21T09:02:28.194776Z"
    },
    "executionInfo": {
     "elapsed": 895,
     "status": "ok",
     "timestamp": 1612454061346,
     "user": {
      "displayName": "Андрей Лебедев",
      "photoUrl": "https://lh3.googleusercontent.com/a-/AOh14GgXFqF2-mYIOCwrGWlaOWxYeJwApY2NV0JByqh93w=s64",
      "userId": "16435059183355096227"
     },
     "user_tz": -180
    },
    "id": "nTFY53xxtodU",
    "papermill": {
     "duration": 1.158316,
     "end_time": "2021-01-21T09:02:28.194934",
     "exception": false,
     "start_time": "2021-01-21T09:02:27.036618",
     "status": "completed"
    },
    "tags": []
   },
   "outputs": [],
   "source": [
    "import time\n",
    "from contextlib import contextmanager\n",
    "import gc\n",
    "import typing as tp\n",
    "import pickle\n",
    "import joblib\n",
    "\n",
    "from matplotlib import pyplot as plt\n",
    "import seaborn as sns\n",
    "\n",
    "import numpy as np\n",
    "import pandas as pd\n",
    "\n",
    "from sklearn.model_selection import KFold\n",
    "from sklearn.metrics import mean_squared_error\n",
    "from itertools import product\n",
    "from sklearn.preprocessing import LabelEncoder\n",
    "\n",
    "import xgboost as xgb\n",
    "import lightgbm as lgb\n",
    "from catboost import CatBoost, Pool, CatBoostRegressor\n",
    "\n",
    "%matplotlib inline"
   ]
  },
  {
   "cell_type": "markdown",
   "metadata": {
    "id": "YtJBAjyqfqe6"
   },
   "source": [
    "#### Load data"
   ]
  },
  {
   "cell_type": "code",
   "execution_count": 2,
   "metadata": {
    "colab": {
     "base_uri": "https://localhost:8080/"
    },
    "executionInfo": {
     "elapsed": 3837,
     "status": "ok",
     "timestamp": 1612454066172,
     "user": {
      "displayName": "Андрей Лебедев",
      "photoUrl": "https://lh3.googleusercontent.com/a-/AOh14GgXFqF2-mYIOCwrGWlaOWxYeJwApY2NV0JByqh93w=s64",
      "userId": "16435059183355096227"
     },
     "user_tz": -180
    },
    "id": "sSbZ_aDitodV",
    "outputId": "168a9442-24c2-4188-9451-1f4a6ed93598"
   },
   "outputs": [
    {
     "name": "stdout",
     "output_type": "stream",
     "text": [
      "train: (2935849, 6), test: (214200, 3)\n"
     ]
    }
   ],
   "source": [
    "train = pd.read_csv(\"sales_train.csv\")\n",
    "test = pd.read_csv(\"test.csv\")\n",
    "print(\"train: {}, test: {}\".format(train.shape, test.shape))"
   ]
  },
  {
   "cell_type": "code",
   "execution_count": 3,
   "metadata": {
    "_uuid": "f0a1c729d4fb3d6609f9dfb163ebe92fa9dc654c",
    "execution": {
     "iopub.execute_input": "2021-01-21T09:02:28.287234Z",
     "iopub.status.busy": "2021-01-21T09:02:28.286476Z",
     "iopub.status.idle": "2021-01-21T09:02:31.272250Z",
     "shell.execute_reply": "2021-01-21T09:02:31.271344Z"
    },
    "executionInfo": {
     "elapsed": 2591,
     "status": "ok",
     "timestamp": 1612454067274,
     "user": {
      "displayName": "Андрей Лебедев",
      "photoUrl": "https://lh3.googleusercontent.com/a-/AOh14GgXFqF2-mYIOCwrGWlaOWxYeJwApY2NV0JByqh93w=s64",
      "userId": "16435059183355096227"
     },
     "user_tz": -180
    },
    "id": "1zjNkl87todW",
    "papermill": {
     "duration": 3.032343,
     "end_time": "2021-01-21T09:02:31.272373",
     "exception": false,
     "start_time": "2021-01-21T09:02:28.240030",
     "status": "completed"
    },
    "tags": []
   },
   "outputs": [],
   "source": [
    "shops = pd.read_csv(\"shops.csv\")\n",
    "categories = pd.read_csv(\"item_categories.csv\")\n",
    "items = pd.read_csv(\"items.csv\")"
   ]
  },
  {
   "cell_type": "markdown",
   "metadata": {
    "id": "Yw2Q9e9ctodW"
   },
   "source": [
    "#### Check data\n",
    "Now we will set a plot for train set data distribution to check if the data is OK."
   ]
  },
  {
   "cell_type": "code",
   "execution_count": 4,
   "metadata": {
    "_uuid": "8da35b420ce7058eeb91d44378317d233759436a",
    "colab": {
     "base_uri": "https://localhost:8080/",
     "height": 298
    },
    "execution": {
     "iopub.execute_input": "2021-01-21T09:02:32.937189Z",
     "iopub.status.busy": "2021-01-21T09:02:32.936448Z",
     "iopub.status.idle": "2021-01-21T09:02:33.212986Z",
     "shell.execute_reply": "2021-01-21T09:02:33.212387Z"
    },
    "executionInfo": {
     "elapsed": 845,
     "status": "ok",
     "timestamp": 1612454111351,
     "user": {
      "displayName": "Андрей Лебедев",
      "photoUrl": "https://lh3.googleusercontent.com/a-/AOh14GgXFqF2-mYIOCwrGWlaOWxYeJwApY2NV0JByqh93w=s64",
      "userId": "16435059183355096227"
     },
     "user_tz": -180
    },
    "id": "kNntbi0ItodX",
    "outputId": "afa85193-feff-474c-da01-8d4e931b6b1b",
    "papermill": {
     "duration": 0.326503,
     "end_time": "2021-01-21T09:02:33.213114",
     "exception": false,
     "start_time": "2021-01-21T09:02:32.886611",
     "status": "completed"
    },
    "tags": []
   },
   "outputs": [
    {
     "data": {
      "text/plain": [
       "<matplotlib.axes._subplots.AxesSubplot at 0x7f00926e5198>"
      ]
     },
     "execution_count": 4,
     "metadata": {
      "tags": []
     },
     "output_type": "execute_result"
    },
    {
     "data": {
      "image/png": "[encoded data removed]",
      "text/plain": [
       "<Figure size 432x288 with 1 Axes>"
      ]
     },
     "metadata": {
      "needs_background": "light",
      "tags": []
     },
     "output_type": "display_data"
    }
   ],
   "source": [
    "sale_by_month = train.groupby('date_block_num')['item_cnt_day'].sum()\n",
    "sale_by_month.plot()"
   ]
  },
  {
   "cell_type": "markdown",
   "metadata": {
    "_uuid": "eafc3711b504497b24f60e1fc1038b961e996ad4",
    "id": "JIeNGWMntodY",
    "papermill": {
     "duration": 0.047344,
     "end_time": "2021-01-21T09:02:33.307101",
     "exception": false,
     "start_time": "2021-01-21T09:02:33.259757",
     "status": "completed"
    },
    "tags": []
   },
   "source": [
    "Then we check a sale distribution in search of some strange trends."
   ]
  },
  {
   "cell_type": "code",
   "execution_count": 5,
   "metadata": {
    "_uuid": "a8bc02e1ca222b8ce670cf53e3697bc7cb3d9566",
    "colab": {
     "base_uri": "https://localhost:8080/",
     "height": 294
    },
    "execution": {
     "iopub.execute_input": "2021-01-21T09:02:33.407066Z",
     "iopub.status.busy": "2021-01-21T09:02:33.406037Z",
     "iopub.status.idle": "2021-01-21T09:02:34.472416Z",
     "shell.execute_reply": "2021-01-21T09:02:34.472896Z"
    },
    "executionInfo": {
     "elapsed": 1756,
     "status": "ok",
     "timestamp": 1612454112274,
     "user": {
      "displayName": "Андрей Лебедев",
      "photoUrl": "https://lh3.googleusercontent.com/a-/AOh14GgXFqF2-mYIOCwrGWlaOWxYeJwApY2NV0JByqh93w=s64",
      "userId": "16435059183355096227"
     },
     "user_tz": -180
    },
    "id": "pLtZKCrptodY",
    "outputId": "be5f4fd8-e37d-4ef0-97f1-0592e3c0a4b4",
    "papermill": {
     "duration": 1.119971,
     "end_time": "2021-01-21T09:02:34.473069",
     "exception": false,
     "start_time": "2021-01-21T09:02:33.353098",
     "status": "completed"
    },
    "tags": []
   },
   "outputs": [
    {
     "data": {
      "text/plain": [
       "<matplotlib.axes._subplots.AxesSubplot at 0x7f009260fef0>"
      ]
     },
     "execution_count": 5,
     "metadata": {
      "tags": []
     },
     "output_type": "execute_result"
    },
    {
     "data": {
      "image/png": "[encoded data removed]",
      "text/plain": [
       "<Figure size 432x288 with 1 Axes>"
      ]
     },
     "metadata": {
      "needs_background": "light",
      "tags": []
     },
     "output_type": "display_data"
    }
   ],
   "source": [
    "block_item_shop_sale = train.groupby(['date_block_num','item_id','shop_id'])['item_cnt_day'].sum()\n",
    "block_item_shop_sale.plot.hist(bins=10)"
   ]
  },
  {
   "cell_type": "code",
   "execution_count": 6,
   "metadata": {
    "colab": {
     "base_uri": "https://localhost:8080/",
     "height": 294
    },
    "executionInfo": {
     "elapsed": 3021,
     "status": "ok",
     "timestamp": 1612454113548,
     "user": {
      "displayName": "Андрей Лебедев",
      "photoUrl": "https://lh3.googleusercontent.com/a-/AOh14GgXFqF2-mYIOCwrGWlaOWxYeJwApY2NV0JByqh93w=s64",
      "userId": "16435059183355096227"
     },
     "user_tz": -180
    },
    "id": "VuMfn2_qtodZ",
    "outputId": "45165bf5-cdde-4d95-d14c-cea0606e47fc"
   },
   "outputs": [
    {
     "data": {
      "text/plain": [
       "<matplotlib.axes._subplots.AxesSubplot at 0x7f009214a860>"
      ]
     },
     "execution_count": 6,
     "metadata": {
      "tags": []
     },
     "output_type": "execute_result"
    },
    {
     "data": {
      "image/png": "[encoded data removed]",
      "text/plain": [
       "<Figure size 432x288 with 1 Axes>"
      ]
     },
     "metadata": {
      "needs_background": "light",
      "tags": []
     },
     "output_type": "display_data"
    }
   ],
   "source": [
    "price_shop_sale = train.groupby(['date_block_num','item_id','shop_id'])['item_price'].sum()\n",
    "price_shop_sale.plot.hist(bins=10)"
   ]
  },
  {
   "cell_type": "markdown",
   "metadata": {
    "id": "LJDgD3mutoda"
   },
   "source": [
    "It seems like there are some outliers near 2k for item_cnt_day. So, we should probably drop them to ease our life in the future.\n",
    "Nearly the same picture is with prices, where at least one price is an outlier for sure."
   ]
  },
  {
   "cell_type": "markdown",
   "metadata": {
    "_uuid": "ed7a190645750a818e29a6291ba2553a91764c7c",
    "id": "XPELVSVftodb",
    "papermill": {
     "duration": 0.047613,
     "end_time": "2021-01-21T09:02:34.568327",
     "exception": false,
     "start_time": "2021-01-21T09:02:34.520714",
     "status": "completed"
    },
    "tags": []
   },
   "source": [
    "## Data improvement"
   ]
  },
  {
   "cell_type": "markdown",
   "metadata": {
    "_uuid": "425d8f2dc08378977b393bf80c5fdcf0fba2c992",
    "id": "nJ_EPgFRtodb",
    "papermill": {
     "duration": 0.046704,
     "end_time": "2021-01-21T09:02:34.662237",
     "exception": false,
     "start_time": "2021-01-21T09:02:34.615533",
     "status": "completed"
    },
    "tags": []
   },
   "source": [
    "And here we are searching for this outliers from item_cnt_day and item_price."
   ]
  },
  {
   "cell_type": "code",
   "execution_count": 7,
   "metadata": {
    "_uuid": "5a864412fafc3129a3e9bd5bb1f18a7cf0c62935",
    "colab": {
     "base_uri": "https://localhost:8080/",
     "height": 561
    },
    "execution": {
     "iopub.execute_input": "2021-01-21T09:02:34.761576Z",
     "iopub.status.busy": "2021-01-21T09:02:34.760586Z",
     "iopub.status.idle": "2021-01-21T09:02:36.573056Z",
     "shell.execute_reply": "2021-01-21T09:02:36.573591Z"
    },
    "executionInfo": {
     "elapsed": 5612,
     "status": "ok",
     "timestamp": 1612454116149,
     "user": {
      "displayName": "Андрей Лебедев",
      "photoUrl": "https://lh3.googleusercontent.com/a-/AOh14GgXFqF2-mYIOCwrGWlaOWxYeJwApY2NV0JByqh93w=s64",
      "userId": "16435059183355096227"
     },
     "user_tz": -180
    },
    "id": "GiShHYOLtodc",
    "outputId": "1b789ac4-7c47-4f07-ce72-e39f5b69795f",
    "papermill": {
     "duration": 1.863608,
     "end_time": "2021-01-21T09:02:36.573742",
     "exception": false,
     "start_time": "2021-01-21T09:02:34.710134",
     "status": "completed"
    },
    "tags": []
   },
   "outputs": [
    {
     "data": {
      "text/plain": [
       "<matplotlib.axes._subplots.AxesSubplot at 0x7f00920ff438>"
      ]
     },
     "execution_count": 7,
     "metadata": {
      "tags": []
     },
     "output_type": "execute_result"
    },
    {
     "data": {
      "image/png": "[encoded data removed]",
      "text/plain": [
       "<Figure size 720x288 with 1 Axes>"
      ]
     },
     "metadata": {
      "needs_background": "light",
      "tags": []
     },
     "output_type": "display_data"
    },
    {
     "data": {
      "image/png": "[encoded data removed]",
      "text/plain": [
       "<Figure size 720x288 with 1 Axes>"
      ]
     },
     "metadata": {
      "needs_background": "light",
      "tags": []
     },
     "output_type": "display_data"
    }
   ],
   "source": [
    "plt.figure(figsize=(10,4))\n",
    "plt.xlim(-100, 3000)\n",
    "sns.boxplot(x=train.item_cnt_day)\n",
    "\n",
    "plt.figure(figsize=(10,4))\n",
    "plt.xlim(train.item_price.min(), train.item_price.max()*1.1)\n",
    "sns.boxplot(x=train.item_price)"
   ]
  },
  {
   "cell_type": "markdown",
   "metadata": {
    "id": "WNRx415Dtodc"
   },
   "source": [
    "So, here they are. Two outliers for item_cnt_day and one for item_price. We need to drop them. Also, it looks like there is a negative price in one of the cases, which needs to be fixed.\n",
    "After a short inspection it was found that this is a problem for shop \"Серебряный Дом\" (shop_id==32) and item \"DmC Devil May Cry [PS3, русские субтитры]\" (item_id=2973). Lets fit it with mean of price for this item for this very shop."
   ]
  },
  {
   "cell_type": "code",
   "execution_count": 8,
   "metadata": {
    "executionInfo": {
     "elapsed": 5804,
     "status": "ok",
     "timestamp": 1612454116343,
     "user": {
      "displayName": "Андрей Лебедев",
      "photoUrl": "https://lh3.googleusercontent.com/a-/AOh14GgXFqF2-mYIOCwrGWlaOWxYeJwApY2NV0JByqh93w=s64",
      "userId": "16435059183355096227"
     },
     "user_tz": -180
    },
    "id": "0lP44sp8todc"
   },
   "outputs": [],
   "source": [
    "train = train[train.item_cnt_day<800]\n",
    "train = train[train.item_price<100000]\n",
    "\n",
    "mean = train[(train.shop_id==32)&(train.item_id==2973)&(train.date_block_num==4)&(train.item_price>0)].item_price.mean()\n",
    "train.loc[train.item_price<0, 'item_price'] = mean"
   ]
  },
  {
   "cell_type": "markdown",
   "metadata": {
    "_uuid": "7da194c285d696b5c6978148bf0143b9b2a7b0c5",
    "id": "63q-4Ln_todd",
    "papermill": {
     "duration": 0.048262,
     "end_time": "2021-01-21T09:02:36.930541",
     "exception": false,
     "start_time": "2021-01-21T09:02:36.882279",
     "status": "completed"
    },
    "tags": []
   },
   "source": [
    "Several shops are duplicates of each other (according to its name). Fix train and test set."
   ]
  },
  {
   "cell_type": "code",
   "execution_count": 9,
   "metadata": {
    "_uuid": "00fe91e9c482ea413abd774ff903fe3d152785dd",
    "execution": {
     "iopub.execute_input": "2021-01-21T09:02:37.039077Z",
     "iopub.status.busy": "2021-01-21T09:02:37.038324Z",
     "iopub.status.idle": "2021-01-21T09:02:37.105071Z",
     "shell.execute_reply": "2021-01-21T09:02:37.104431Z"
    },
    "executionInfo": {
     "elapsed": 6014,
     "status": "ok",
     "timestamp": 1612454116555,
     "user": {
      "displayName": "Андрей Лебедев",
      "photoUrl": "https://lh3.googleusercontent.com/a-/AOh14GgXFqF2-mYIOCwrGWlaOWxYeJwApY2NV0JByqh93w=s64",
      "userId": "16435059183355096227"
     },
     "user_tz": -180
    },
    "id": "Y5NN0pYotodd",
    "papermill": {
     "duration": 0.125313,
     "end_time": "2021-01-21T09:02:37.105190",
     "exception": false,
     "start_time": "2021-01-21T09:02:36.979877",
     "status": "completed"
    },
    "tags": []
   },
   "outputs": [],
   "source": [
    "# Якутск Орджоникидзе, 56\n",
    "train.loc[train.shop_id == 0, 'shop_id'] = 57\n",
    "test.loc[test.shop_id == 0, 'shop_id'] = 57\n",
    "# Якутск ТЦ \"Центральный\"\n",
    "train.loc[train.shop_id == 1, 'shop_id'] = 58\n",
    "test.loc[test.shop_id == 1, 'shop_id'] = 58\n",
    "# Жуковский ул. Чкалова 39м²\n",
    "train.loc[train.shop_id == 10, 'shop_id'] = 11\n",
    "test.loc[test.shop_id == 10, 'shop_id'] = 11"
   ]
  },
  {
   "cell_type": "markdown",
   "metadata": {
    "id": "rPjj-YbGtodd"
   },
   "source": [
    "#### Shop data improvement\n",
    "There are also some majestic shop names, which have to be fixed to avoid some problems in the future. Also, here we split shop names into city, category and then encode them."
   ]
  },
  {
   "cell_type": "code",
   "execution_count": 10,
   "metadata": {
    "_uuid": "12fae4c8d0c8f3e817307d1e0ffc6831e9a8d696",
    "execution": {
     "iopub.execute_input": "2021-01-21T09:02:37.352762Z",
     "iopub.status.busy": "2021-01-21T09:02:37.351842Z",
     "iopub.status.idle": "2021-01-21T09:02:37.357210Z",
     "shell.execute_reply": "2021-01-21T09:02:37.356513Z"
    },
    "executionInfo": {
     "elapsed": 6014,
     "status": "ok",
     "timestamp": 1612454116556,
     "user": {
      "displayName": "Андрей Лебедев",
      "photoUrl": "https://lh3.googleusercontent.com/a-/AOh14GgXFqF2-mYIOCwrGWlaOWxYeJwApY2NV0JByqh93w=s64",
      "userId": "16435059183355096227"
     },
     "user_tz": -180
    },
    "id": "kkZ9V01etodd",
    "papermill": {
     "duration": 0.085132,
     "end_time": "2021-01-21T09:02:37.357349",
     "exception": false,
     "start_time": "2021-01-21T09:02:37.272217",
     "status": "completed"
    },
    "tags": []
   },
   "outputs": [],
   "source": [
    "shops.loc[shops.shop_name == 'Сергиев Посад ТЦ \"7Я\"', 'shop_name'] = 'СергиевПосад ТЦ \"7Я\"'\n",
    "shops[\"city\"] = shops.shop_name.str.split(\" \").map( lambda x: x[0] )\n",
    "shops[\"category\"] = shops.shop_name.str.split(\" \").map( lambda x: x[1] )\n",
    "shops.loc[shops.city == '!Якутск', 'city'] = 'Якутск'\n",
    "shops[\"shop_category\"] = LabelEncoder().fit_transform(shops.category)\n",
    "shops[\"shop_city\"] = LabelEncoder().fit_transform(shops.city)\n",
    "shops = shops[[\"shop_id\", \"shop_category\", \"shop_city\"]]"
   ]
  },
  {
   "cell_type": "markdown",
   "metadata": {
    "id": "zYdinNm5tode"
   },
   "source": [
    "#### Item categories improvement\n",
    "Then we fix and encode data from item categories thanks to the data format."
   ]
  },
  {
   "cell_type": "code",
   "execution_count": 11,
   "metadata": {
    "executionInfo": {
     "elapsed": 6013,
     "status": "ok",
     "timestamp": 1612454116556,
     "user": {
      "displayName": "Андрей Лебедев",
      "photoUrl": "https://lh3.googleusercontent.com/a-/AOh14GgXFqF2-mYIOCwrGWlaOWxYeJwApY2NV0JByqh93w=s64",
      "userId": "16435059183355096227"
     },
     "user_tz": -180
    },
    "id": "Ph6MjB4Wtode"
   },
   "outputs": [],
   "source": [
    "categories[\"type_code\"] = categories.item_category_name.apply( lambda x: x.split(\" \")[0] ).astype(str)\n",
    "categories.type_code = LabelEncoder().fit_transform(categories.type_code)\n",
    "categories[\"split\"] = categories.item_category_name.apply(lambda x: x.split(\"-\"))\n",
    "categories[\"subtype\"] = categories.split.apply(lambda x: x[1].strip() if len(x) > 1 else x[0].strip())\n",
    "categories[\"subtype_code\"] = LabelEncoder().fit_transform(categories[\"subtype\"])\n",
    "categories = categories[[\"item_category_id\", \"subtype_code\", \"type_code\"]]"
   ]
  },
  {
   "cell_type": "markdown",
   "metadata": {
    "id": "rBi_sxDCtode"
   },
   "source": [
    "#### Items improvement\n",
    "Items data look good from the start, so, we should just drop ids."
   ]
  },
  {
   "cell_type": "code",
   "execution_count": 12,
   "metadata": {
    "executionInfo": {
     "elapsed": 6012,
     "status": "ok",
     "timestamp": 1612454116557,
     "user": {
      "displayName": "Андрей Лебедев",
      "photoUrl": "https://lh3.googleusercontent.com/a-/AOh14GgXFqF2-mYIOCwrGWlaOWxYeJwApY2NV0JByqh93w=s64",
      "userId": "16435059183355096227"
     },
     "user_tz": -180
    },
    "id": "mc4DfbJYtode"
   },
   "outputs": [],
   "source": [
    "items = items.drop('item_name', axis=1)"
   ]
  },
  {
   "cell_type": "markdown",
   "metadata": {
    "_uuid": "62c5f83fa222595da99294f465ab28e80ce415e9",
    "id": "SoNQ5ZdStodf",
    "papermill": {
     "duration": 0.056849,
     "end_time": "2021-01-21T09:02:37.470322",
     "exception": false,
     "start_time": "2021-01-21T09:02:37.413473",
     "status": "completed"
    },
    "tags": []
   },
   "source": [
    "#### Prepairing grid for the feature generation\n",
    "Most of the items in the test set target value should be zero, while train set contains only pairs which were sold or returned in the past. So we expand the train set to include those item-shop pairs with zero monthly sales. This way train data will be similar to test data."
   ]
  },
  {
   "cell_type": "code",
   "execution_count": 13,
   "metadata": {
    "_uuid": "7626c7455ea71b65894c6c866519df15080fa2ac",
    "execution": {
     "iopub.execute_input": "2021-01-21T09:02:37.583140Z",
     "iopub.status.busy": "2021-01-21T09:02:37.582048Z",
     "iopub.status.idle": "2021-01-21T09:02:58.121655Z",
     "shell.execute_reply": "2021-01-21T09:02:58.122178Z"
    },
    "executionInfo": {
     "elapsed": 19538,
     "status": "ok",
     "timestamp": 1612454130084,
     "user": {
      "displayName": "Андрей Лебедев",
      "photoUrl": "https://lh3.googleusercontent.com/a-/AOh14GgXFqF2-mYIOCwrGWlaOWxYeJwApY2NV0JByqh93w=s64",
      "userId": "16435059183355096227"
     },
     "user_tz": -180
    },
    "id": "bAEWVqo6todg",
    "papermill": {
     "duration": 20.600311,
     "end_time": "2021-01-21T09:02:58.122336",
     "exception": false,
     "start_time": "2021-01-21T09:02:37.522025",
     "status": "completed"
    },
    "tags": []
   },
   "outputs": [],
   "source": [
    "index_cols = ['shop_id', 'item_id', 'date_block_num']\n",
    "\n",
    "grid = [] \n",
    "for block_num in train['date_block_num'].unique():\n",
    "    cur_shops = train[train['date_block_num']==block_num]['shop_id'].unique()\n",
    "    cur_items = train[train['date_block_num']==block_num]['item_id'].unique()\n",
    "    grid.append(np.array(list(product(*[cur_shops, cur_items, [block_num]])),dtype='int32'))\n",
    "\n",
    "# Transform the grid into pandas dataframe\n",
    "grid = pd.DataFrame(np.vstack(grid), columns = index_cols, dtype=np.int32)"
   ]
  },
  {
   "cell_type": "markdown",
   "metadata": {
    "_uuid": "867e91a7570dd78b4834f4f1a166e58f80b63f93",
    "id": "BQtYUBKJtodg",
    "papermill": {
     "duration": 0.050145,
     "end_time": "2021-01-21T09:02:58.229436",
     "exception": false,
     "start_time": "2021-01-21T09:02:58.179291",
     "status": "completed"
    },
    "tags": []
   },
   "source": [
    "Aggregate train set by shop/item pairs to calculate target aggreagates, then <b>clip(0,20)</b> target value. This way train target will be similar to the test predictions.\n",
    "\n",
    "Downcast item_cnt_month to float32 -- float16 was too small to perform sum operation."
   ]
  },
  {
   "cell_type": "code",
   "execution_count": 14,
   "metadata": {
    "_uuid": "9fef5477060be7d2e6c85dcb79d8e18e6253f7dd",
    "execution": {
     "iopub.execute_input": "2021-01-21T09:02:58.332913Z",
     "iopub.status.busy": "2021-01-21T09:02:58.332307Z",
     "iopub.status.idle": "2021-01-21T09:02:58.349821Z",
     "shell.execute_reply": "2021-01-21T09:02:58.350422Z"
    },
    "executionInfo": {
     "elapsed": 19538,
     "status": "ok",
     "timestamp": 1612454130086,
     "user": {
      "displayName": "Андрей Лебедев",
      "photoUrl": "https://lh3.googleusercontent.com/a-/AOh14GgXFqF2-mYIOCwrGWlaOWxYeJwApY2NV0JByqh93w=s64",
      "userId": "16435059183355096227"
     },
     "user_tz": -180
    },
    "id": "KueZL4QAtodg",
    "papermill": {
     "duration": 0.070887,
     "end_time": "2021-01-21T09:02:58.350568",
     "exception": false,
     "start_time": "2021-01-21T09:02:58.279681",
     "status": "completed"
    },
    "tags": []
   },
   "outputs": [],
   "source": [
    "train['revenue'] = train['item_price'] *  train['item_cnt_day']"
   ]
  },
  {
   "cell_type": "code",
   "execution_count": 15,
   "metadata": {
    "_uuid": "7dd27181918fc7df89676e24d72130d183929d2d",
    "execution": {
     "iopub.execute_input": "2021-01-21T09:02:58.454505Z",
     "iopub.status.busy": "2021-01-21T09:02:58.453768Z",
     "iopub.status.idle": "2021-01-21T09:03:03.727289Z",
     "shell.execute_reply": "2021-01-21T09:03:03.726506Z"
    },
    "executionInfo": {
     "elapsed": 24591,
     "status": "ok",
     "timestamp": 1612454135141,
     "user": {
      "displayName": "Андрей Лебедев",
      "photoUrl": "https://lh3.googleusercontent.com/a-/AOh14GgXFqF2-mYIOCwrGWlaOWxYeJwApY2NV0JByqh93w=s64",
      "userId": "16435059183355096227"
     },
     "user_tz": -180
    },
    "id": "7ScilDrXtodg",
    "papermill": {
     "duration": 5.326967,
     "end_time": "2021-01-21T09:03:03.727409",
     "exception": false,
     "start_time": "2021-01-21T09:02:58.400442",
     "status": "completed"
    },
    "tags": []
   },
   "outputs": [],
   "source": [
    "gb = train.groupby(index_cols).agg({'item_cnt_day': ['sum']})\n",
    "gb.columns = ['item_cnt_month']\n",
    "gb.reset_index(inplace=True)\n",
    "grid = pd.merge(grid, gb, on=index_cols, how='left')\n",
    "grid['item_cnt_month'] = (grid['item_cnt_month'].fillna(0).clip(0,20).astype(np.float32))"
   ]
  },
  {
   "cell_type": "markdown",
   "metadata": {
    "_uuid": "315bc6107a93f3926a64fd09ea9244e9281ee41f",
    "id": "tzO_o_VKtodg",
    "papermill": {
     "duration": 0.051177,
     "end_time": "2021-01-21T09:03:03.835403",
     "exception": false,
     "start_time": "2021-01-21T09:03:03.784226",
     "status": "completed"
    },
    "tags": []
   },
   "source": [
    "#### Joining train and test sets\n",
    "We use it to create all important features for both train and test sets."
   ]
  },
  {
   "cell_type": "code",
   "execution_count": 16,
   "metadata": {
    "_uuid": "29d02bdb4fa768577607bf735b918ca81da85d41",
    "execution": {
     "iopub.execute_input": "2021-01-21T09:03:03.946043Z",
     "iopub.status.busy": "2021-01-21T09:03:03.944793Z",
     "iopub.status.idle": "2021-01-21T09:03:03.951535Z",
     "shell.execute_reply": "2021-01-21T09:03:03.950943Z"
    },
    "executionInfo": {
     "elapsed": 24592,
     "status": "ok",
     "timestamp": 1612454135142,
     "user": {
      "displayName": "Андрей Лебедев",
      "photoUrl": "https://lh3.googleusercontent.com/a-/AOh14GgXFqF2-mYIOCwrGWlaOWxYeJwApY2NV0JByqh93w=s64",
      "userId": "16435059183355096227"
     },
     "user_tz": -180
    },
    "id": "BYKHhGPUtodh",
    "papermill": {
     "duration": 0.065065,
     "end_time": "2021-01-21T09:03:03.951657",
     "exception": false,
     "start_time": "2021-01-21T09:03:03.886592",
     "status": "completed"
    },
    "tags": []
   },
   "outputs": [],
   "source": [
    "test[\"date_block_num\"] = 34\n",
    "grid = pd.concat([grid, test.drop([\"ID\"],axis = 1)], ignore_index=True, sort=False, keys=index_cols)"
   ]
  },
  {
   "cell_type": "code",
   "execution_count": 17,
   "metadata": {
    "_uuid": "177fbbab94c8057d67d61357d29581248468a74d",
    "execution": {
     "iopub.execute_input": "2021-01-21T09:03:04.058889Z",
     "iopub.status.busy": "2021-01-21T09:03:04.057871Z",
     "iopub.status.idle": "2021-01-21T09:03:04.108664Z",
     "shell.execute_reply": "2021-01-21T09:03:04.109198Z"
    },
    "executionInfo": {
     "elapsed": 28820,
     "status": "ok",
     "timestamp": 1612454139371,
     "user": {
      "displayName": "Андрей Лебедев",
      "photoUrl": "https://lh3.googleusercontent.com/a-/AOh14GgXFqF2-mYIOCwrGWlaOWxYeJwApY2NV0JByqh93w=s64",
      "userId": "16435059183355096227"
     },
     "user_tz": -180
    },
    "id": "U4UghLfQtodh",
    "papermill": {
     "duration": 0.107945,
     "end_time": "2021-01-21T09:03:04.109352",
     "exception": false,
     "start_time": "2021-01-21T09:03:04.001407",
     "status": "completed"
    },
    "tags": []
   },
   "outputs": [],
   "source": [
    "grid = pd.merge(grid, shops, on = [\"shop_id\"], how = \"left\")\n",
    "grid = pd.merge(grid, items, on = [\"item_id\"], how = \"left\")\n",
    "grid = pd.merge(grid, categories, on = [\"item_category_id\"], how = \"left\")"
   ]
  },
  {
   "cell_type": "markdown",
   "metadata": {
    "_uuid": "8358b291fdc8e0e7d1b5700974803b3f104715f7",
    "id": "3lls6wwRtodh",
    "papermill": {
     "duration": 0.050424,
     "end_time": "2021-01-21T09:03:08.570347",
     "exception": false,
     "start_time": "2021-01-21T09:03:08.519923",
     "status": "completed"
    },
    "tags": []
   },
   "source": [
    "## Features generation"
   ]
  },
  {
   "cell_type": "code",
   "execution_count": 18,
   "metadata": {
    "_uuid": "9cd7bcc7643ce4545475e8e6f80d09a979aac42d",
    "execution": {
     "iopub.execute_input": "2021-01-21T09:03:08.697826Z",
     "iopub.status.busy": "2021-01-21T09:03:08.696657Z",
     "iopub.status.idle": "2021-01-21T09:03:08.700217Z",
     "shell.execute_reply": "2021-01-21T09:03:08.699624Z"
    },
    "executionInfo": {
     "elapsed": 28819,
     "status": "ok",
     "timestamp": 1612454139372,
     "user": {
      "displayName": "Андрей Лебедев",
      "photoUrl": "https://lh3.googleusercontent.com/a-/AOh14GgXFqF2-mYIOCwrGWlaOWxYeJwApY2NV0JByqh93w=s64",
      "userId": "16435059183355096227"
     },
     "user_tz": -180
    },
    "id": "czs5b2jQtodh",
    "papermill": {
     "duration": 0.076914,
     "end_time": "2021-01-21T09:03:08.700335",
     "exception": false,
     "start_time": "2021-01-21T09:03:08.623421",
     "status": "completed"
    },
    "tags": []
   },
   "outputs": [],
   "source": [
    "def lag_features(data, lags, col):\n",
    "    tmp = data[['date_block_num','shop_id','item_id', col]]\n",
    "    for i in lags:\n",
    "        print('Turn {} has started'.format(str(i)))\n",
    "        shifted = tmp.copy()\n",
    "        shifted.columns = ['date_block_num','shop_id','item_id', col+'_lag_'+str(i)]\n",
    "        shifted['date_block_num'] += i\n",
    "        data = pd.merge(data, shifted, on=['date_block_num','shop_id','item_id'], how='left')\n",
    "        print('Turn {} has finished'.format(str(i)))\n",
    "    return data"
   ]
  },
  {
   "cell_type": "markdown",
   "metadata": {
    "id": "8-G_3b7vtodi"
   },
   "source": [
    "Usual lags for item through previous months."
   ]
  },
  {
   "cell_type": "code",
   "execution_count": 19,
   "metadata": {
    "_uuid": "78bf7ece93ebc4629ad0e48cd6a9927788d8706d",
    "colab": {
     "base_uri": "https://localhost:8080/"
    },
    "execution": {
     "iopub.execute_input": "2021-01-21T09:03:08.824243Z",
     "iopub.status.busy": "2021-01-21T09:03:08.823369Z",
     "iopub.status.idle": "2021-01-21T09:03:49.775706Z",
     "shell.execute_reply": "2021-01-21T09:03:49.775099Z"
    },
    "executionInfo": {
     "elapsed": 67566,
     "status": "ok",
     "timestamp": 1612454178124,
     "user": {
      "displayName": "Андрей Лебедев",
      "photoUrl": "https://lh3.googleusercontent.com/a-/AOh14GgXFqF2-mYIOCwrGWlaOWxYeJwApY2NV0JByqh93w=s64",
      "userId": "16435059183355096227"
     },
     "user_tz": -180
    },
    "id": "6PHHKp9Htodi",
    "outputId": "ad810fd4-7a68-496f-f3f9-abddae01cfe2",
    "papermill": {
     "duration": 41.018377,
     "end_time": "2021-01-21T09:03:49.775836",
     "exception": false,
     "start_time": "2021-01-21T09:03:08.757459",
     "status": "completed"
    },
    "tags": []
   },
   "outputs": [
    {
     "name": "stdout",
     "output_type": "stream",
     "text": [
      "Turn 1 has started\n",
      "Turn 1 has finished\n",
      "Turn 2 has started\n",
      "Turn 2 has finished\n",
      "Turn 3 has started\n",
      "Turn 3 has finished\n",
      "Turn 6 has started\n",
      "Turn 6 has finished\n",
      "Turn 9 has started\n",
      "Turn 9 has finished\n",
      "Turn 12 has started\n",
      "Turn 12 has finished\n"
     ]
    }
   ],
   "source": [
    "grid = lag_features(grid, [1, 2, 3, 6, 9, 12], \"item_cnt_month\")"
   ]
  },
  {
   "cell_type": "markdown",
   "metadata": {
    "_uuid": "9623850fd14c1a67cb8d68f536b32d974729032b",
    "id": "ZNXAt9dmtodi",
    "papermill": {
     "duration": 0.052113,
     "end_time": "2021-01-21T09:03:49.881401",
     "exception": false,
     "start_time": "2021-01-21T09:03:49.829288",
     "status": "completed"
    },
    "tags": []
   },
   "source": [
    "#### Adding data for lags\n",
    "Here we create stats (mean/var) of sales of certain groups of features during the past 12 months"
   ]
  },
  {
   "cell_type": "code",
   "execution_count": 20,
   "metadata": {
    "_uuid": "46eb3502a9c5cc2dbd179613f09cc587d17128f5",
    "execution": {
     "iopub.execute_input": "2021-01-21T09:03:50.004307Z",
     "iopub.status.busy": "2021-01-21T09:03:49.999446Z",
     "iopub.status.idle": "2021-01-21T09:03:50.008634Z",
     "shell.execute_reply": "2021-01-21T09:03:50.008029Z"
    },
    "executionInfo": {
     "elapsed": 51439,
     "status": "ok",
     "timestamp": 1612454178125,
     "user": {
      "displayName": "Андрей Лебедев",
      "photoUrl": "https://lh3.googleusercontent.com/a-/AOh14GgXFqF2-mYIOCwrGWlaOWxYeJwApY2NV0JByqh93w=s64",
      "userId": "16435059183355096227"
     },
     "user_tz": -180
    },
    "id": "GgcUOHgrtodi",
    "papermill": {
     "duration": 0.075134,
     "end_time": "2021-01-21T09:03:50.008767",
     "exception": false,
     "start_time": "2021-01-21T09:03:49.933633",
     "status": "completed"
    },
    "tags": []
   },
   "outputs": [],
   "source": [
    "def group_stats(grid_, groupby_feats, target, enc_feat, last_periods):\n",
    "    if not 'date_block_num' in groupby_feats:\n",
    "        print ('date_block_num must in groupby_feats')\n",
    "        return grid_\n",
    "    \n",
    "    gb = grid_.groupby(groupby_feats)[target].sum().reset_index()\n",
    "    max_lags = np.max(last_periods)\n",
    "    for i in range(1,max_lags+1):\n",
    "        shifted = gb[groupby_feats+[target]].copy(deep=True)\n",
    "        shifted['date_block_num'] += i\n",
    "        shifted.rename({target:target+'_lag_'+str(i)},axis=1,inplace=True)\n",
    "        gb = gb.merge(shifted, on=groupby_feats, how='left')\n",
    "    gb.fillna(0,inplace=True)\n",
    "    for period in last_periods:\n",
    "        lag_feats = [target+'_lag_'+str(lag) for lag in np.arange(1,period+1)]\n",
    "        mean = gb[lag_feats].sum(axis=1)/float(period)\n",
    "        mean2 = (gb[lag_feats]**2).sum(axis=1)/float(period)\n",
    "        gb[enc_feat+'_avg_sale_last_'+str(period)] = mean\n",
    "        gb[enc_feat+'_std_sale_last_'+str(period)] = (mean2 - mean**2).apply(np.sqrt)\n",
    "        gb[enc_feat+'_std_sale_last_'+str(period)].replace(np.inf,0,inplace=True)\n",
    "        gb[enc_feat+'_avg_sale_last_'+str(period)] /= gb[enc_feat+'_avg_sale_last_'+str(period)].mean()\n",
    "        gb[enc_feat+'_std_sale_last_'+str(period)] /= gb[enc_feat+'_std_sale_last_'+str(period)].mean()\n",
    "    cols = groupby_feats + [f_ for f_ in gb.columns.values if f_.find('_sale_last_')>=0]\n",
    "    grid = grid_.merge(gb[cols], on=groupby_feats, how='left')\n",
    "    return grid"
   ]
  },
  {
   "cell_type": "code",
   "execution_count": 21,
   "metadata": {
    "_uuid": "041621b2e2e5d28f91bfc6ef58dea9b0a65a08d9",
    "execution": {
     "iopub.execute_input": "2021-01-21T09:03:50.116742Z",
     "iopub.status.busy": "2021-01-21T09:03:50.115816Z",
     "iopub.status.idle": "2021-01-21T09:04:08.265056Z",
     "shell.execute_reply": "2021-01-21T09:04:08.265605Z"
    },
    "executionInfo": {
     "elapsed": 66370,
     "status": "ok",
     "timestamp": 1612454193059,
     "user": {
      "displayName": "Андрей Лебедев",
      "photoUrl": "https://lh3.googleusercontent.com/a-/AOh14GgXFqF2-mYIOCwrGWlaOWxYeJwApY2NV0JByqh93w=s64",
      "userId": "16435059183355096227"
     },
     "user_tz": -180
    },
    "id": "Sg9FsX68todi",
    "papermill": {
     "duration": 18.204948,
     "end_time": "2021-01-21T09:04:08.265769",
     "exception": false,
     "start_time": "2021-01-21T09:03:50.060821",
     "status": "completed"
    },
    "tags": []
   },
   "outputs": [],
   "source": [
    "grid = group_stats(grid, ['date_block_num', 'item_id'], 'item_cnt_month', 'item', [12])\n",
    "grid = group_stats(grid, ['date_block_num', 'shop_id'], 'item_cnt_month', 'shop', [12])\n",
    "grid = group_stats(grid, ['date_block_num', 'item_category_id'], 'item_cnt_month', 'category', [12])\n",
    "grid = group_stats(grid, ['date_block_num', 'shop_city'], 'item_cnt_month', 'city', [12])\n",
    "grid = group_stats(grid, ['date_block_num', 'type_code'], 'item_cnt_month', 'type', [12])\n",
    "grid = group_stats(grid, ['date_block_num', 'subtype_code'], 'item_cnt_month', 'subtype', [12])"
   ]
  },
  {
   "cell_type": "markdown",
   "metadata": {
    "_uuid": "c67bf4dbcef884ffe9d19c65d37bc4de1f287ef6",
    "id": "rJMuM7WItodi",
    "papermill": {
     "duration": 0.051411,
     "end_time": "2021-01-21T09:04:08.369664",
     "exception": false,
     "start_time": "2021-01-21T09:04:08.318253",
     "status": "completed"
    },
    "tags": []
   },
   "source": [
    "#### Lags generation\n",
    "To begin with, we use target encoding for each group of features."
   ]
  },
  {
   "cell_type": "code",
   "execution_count": 22,
   "metadata": {
    "_uuid": "79c8e250e42eaabddc4bc6c6569e70e1a23e2cfe",
    "execution": {
     "iopub.execute_input": "2021-01-21T09:04:08.475884Z",
     "iopub.status.busy": "2021-01-21T09:04:08.475003Z",
     "iopub.status.idle": "2021-01-21T09:04:08.483309Z",
     "shell.execute_reply": "2021-01-21T09:04:08.483873Z"
    },
    "executionInfo": {
     "elapsed": 66370,
     "status": "ok",
     "timestamp": 1612454193061,
     "user": {
      "displayName": "Андрей Лебедев",
      "photoUrl": "https://lh3.googleusercontent.com/a-/AOh14GgXFqF2-mYIOCwrGWlaOWxYeJwApY2NV0JByqh93w=s64",
      "userId": "16435059183355096227"
     },
     "user_tz": -180
    },
    "id": "-WEz7506todi",
    "papermill": {
     "duration": 0.063434,
     "end_time": "2021-01-21T09:04:08.484045",
     "exception": false,
     "start_time": "2021-01-21T09:04:08.420611",
     "status": "completed"
    },
    "tags": []
   },
   "outputs": [],
   "source": [
    "def target_encoding(grid_, groupby_feats, target, enc_feat, lags):\n",
    "    print('target encoding for', groupby_feats)\n",
    "    gb = grid_.groupby(groupby_feats).agg({target:'mean'})\n",
    "    gb.columns = [enc_feat]\n",
    "    gb.reset_index(inplace=True)\n",
    "    grid = grid_.merge(gb, on=groupby_feats, how='left')\n",
    "    grid[enc_feat] = grid[enc_feat].astype(np.float32)\n",
    "    grid = lag_features(grid, lags, enc_feat)\n",
    "    grid.drop(enc_feat, axis=1, inplace=True)\n",
    "    return grid"
   ]
  },
  {
   "cell_type": "markdown",
   "metadata": {
    "id": "CLnWJxiEfb1k"
   },
   "source": [
    "Here we check existing columns, which may be used for lags generation."
   ]
  },
  {
   "cell_type": "code",
   "execution_count": 23,
   "metadata": {
    "colab": {
     "base_uri": "https://localhost:8080/"
    },
    "executionInfo": {
     "elapsed": 66362,
     "status": "ok",
     "timestamp": 1612454193061,
     "user": {
      "displayName": "Андрей Лебедев",
      "photoUrl": "https://lh3.googleusercontent.com/a-/AOh14GgXFqF2-mYIOCwrGWlaOWxYeJwApY2NV0JByqh93w=s64",
      "userId": "16435059183355096227"
     },
     "user_tz": -180
    },
    "id": "zylIPPEztodj",
    "outputId": "2cdc1a8e-ee0e-470e-9d46-82406db250f3"
   },
   "outputs": [
    {
     "name": "stdout",
     "output_type": "stream",
     "text": [
      "shop_id\n",
      "item_id\n",
      "date_block_num\n",
      "item_cnt_month\n",
      "shop_category\n",
      "shop_city\n",
      "item_category_id\n",
      "subtype_code\n",
      "type_code\n",
      "item_cnt_month_lag_1\n",
      "item_cnt_month_lag_2\n",
      "item_cnt_month_lag_3\n",
      "item_cnt_month_lag_6\n",
      "item_cnt_month_lag_9\n",
      "item_cnt_month_lag_12\n",
      "item_avg_sale_last_12\n",
      "item_std_sale_last_12\n",
      "shop_avg_sale_last_12\n",
      "shop_std_sale_last_12\n",
      "category_avg_sale_last_12\n",
      "category_std_sale_last_12\n",
      "city_avg_sale_last_12\n",
      "city_std_sale_last_12\n",
      "type_avg_sale_last_12\n",
      "type_std_sale_last_12\n",
      "subtype_avg_sale_last_12\n",
      "subtype_std_sale_last_12\n"
     ]
    }
   ],
   "source": [
    "for col in grid.columns: \n",
    "    print(col)"
   ]
  },
  {
   "cell_type": "markdown",
   "metadata": {
    "id": "2XgBpUankXQv"
   },
   "source": [
    "And here I come to the massive feature generation, but there is a problem. I've got only 16GB of RAM, so not all of the features, which were planned, could've been generated."
   ]
  },
  {
   "cell_type": "code",
   "execution_count": 24,
   "metadata": {
    "_uuid": "56d7d2b826231476ce450e90a9c8d9e68ed471e5",
    "colab": {
     "base_uri": "https://localhost:8080/"
    },
    "execution": {
     "iopub.execute_input": "2021-01-21T09:04:08.589821Z",
     "iopub.status.busy": "2021-01-21T09:04:08.589008Z",
     "iopub.status.idle": "2021-01-21T09:07:12.619383Z",
     "shell.execute_reply": "2021-01-21T09:07:12.619934Z"
    },
    "executionInfo": {
     "elapsed": 446354,
     "status": "ok",
     "timestamp": 1612454573062,
     "user": {
      "displayName": "Андрей Лебедев",
      "photoUrl": "https://lh3.googleusercontent.com/a-/AOh14GgXFqF2-mYIOCwrGWlaOWxYeJwApY2NV0JByqh93w=s64",
      "userId": "16435059183355096227"
     },
     "user_tz": -180
    },
    "id": "yfRHyqcFtodk",
    "outputId": "bbfa0e72-f639-4d43-acf1-68547c8e9985",
    "papermill": {
     "duration": 184.084825,
     "end_time": "2021-01-21T09:07:12.620118",
     "exception": false,
     "start_time": "2021-01-21T09:04:08.535293",
     "status": "completed"
    },
    "tags": []
   },
   "outputs": [
    {
     "name": "stdout",
     "output_type": "stream",
     "text": [
      "target encoding for ['date_block_num']\n",
      "Turn 1 has started\n",
      "Turn 1 has finished\n",
      "target encoding for ['date_block_num', 'item_id']\n",
      "Turn 1 has started\n",
      "Turn 1 has finished\n",
      "Turn 2 has started\n",
      "Turn 2 has finished\n",
      "Turn 3 has started\n",
      "Turn 3 has finished\n",
      "Turn 6 has started\n",
      "Turn 6 has finished\n",
      "Turn 12 has started\n",
      "Turn 12 has finished\n",
      "target encoding for ['date_block_num', 'shop_id']\n",
      "Turn 1 has started\n",
      "Turn 1 has finished\n",
      "Turn 2 has started\n",
      "Turn 2 has finished\n",
      "Turn 3 has started\n",
      "Turn 3 has finished\n",
      "Turn 6 has started\n",
      "Turn 6 has finished\n",
      "Turn 12 has started\n",
      "Turn 12 has finished\n",
      "target encoding for ['date_block_num', 'item_category_id']\n",
      "Turn 1 has started\n",
      "Turn 1 has finished\n",
      "Turn 2 has started\n",
      "Turn 2 has finished\n",
      "Turn 3 has started\n",
      "Turn 3 has finished\n",
      "Turn 6 has started\n",
      "Turn 6 has finished\n",
      "Turn 12 has started\n",
      "Turn 12 has finished\n",
      "target encoding for ['date_block_num', 'shop_category']\n",
      "Turn 1 has started\n",
      "Turn 1 has finished\n",
      "Turn 2 has started\n",
      "Turn 2 has finished\n",
      "Turn 3 has started\n",
      "Turn 3 has finished\n",
      "Turn 6 has started\n",
      "Turn 6 has finished\n",
      "Turn 12 has started\n",
      "Turn 12 has finished\n",
      "target encoding for ['date_block_num', 'type_code']\n",
      "Turn 1 has started\n",
      "Turn 1 has finished\n",
      "Turn 2 has started\n",
      "Turn 2 has finished\n",
      "Turn 3 has started\n",
      "Turn 3 has finished\n",
      "target encoding for ['date_block_num', 'subtype_code']\n",
      "Turn 1 has started\n",
      "Turn 1 has finished\n",
      "target encoding for ['date_block_num', 'shop_id', 'item_category_id']\n",
      "Turn 1 has started\n",
      "Turn 1 has finished\n",
      "target encoding for ['date_block_num', 'shop_city']\n",
      "Turn 1 has started\n",
      "Turn 1 has finished\n",
      "target encoding for ['date_block_num', 'item_id', 'type_code']\n",
      "Turn 1 has started\n",
      "Turn 1 has finished\n"
     ]
    }
   ],
   "source": [
    "grid = target_encoding(grid, ['date_block_num'], 'item_cnt_month', 'date_avg_item_cnt', [1])\n",
    "grid = target_encoding(grid, ['date_block_num', 'item_id'], 'item_cnt_month', 'date_item_avg_item_cnt', [1,2,3,6,12])\n",
    "grid = target_encoding(grid, ['date_block_num', 'shop_id'], 'item_cnt_month', 'date_shop_avg_item_cnt', [1,2,3,6,12])\n",
    "grid = target_encoding(grid, ['date_block_num', 'item_category_id'], 'item_cnt_month', 'date_cat_avg_item_cnt', [1,2,3,6,12])\n",
    "grid = target_encoding(grid, ['date_block_num', 'shop_category'], 'item_cnt_month', 'date_shop_cat_avg_item_cnt', [1,2,3,6,12])\n",
    "grid = target_encoding(grid, ['date_block_num', 'type_code'], 'item_cnt_month', 'type_item_cnt', [1,2,3])\n",
    "grid = target_encoding(grid, ['date_block_num', 'subtype_code'], 'item_cnt_month', 'subtype_item_cnt', [1])\n",
    "grid = target_encoding(grid, ['date_block_num', 'shop_id', 'item_category_id'], 'item_cnt_month', 'date_shop_cat_avg_item_cnt', [1])\n",
    "grid = target_encoding(grid, ['date_block_num', 'shop_city'], 'item_cnt_month', 'date_city_avg_item_cnt', [1])\n",
    "# grid = target_encoding(grid, ['date_block_num', 'item_id', 'shop_city'], 'item_cnt_month', 'date_item_city_avg_item_cnt', [1])\n",
    "grid = target_encoding(grid, ['date_block_num', 'item_id', 'type_code'], 'item_cnt_month', 'type_avg_item_cnt', [1])\n",
    "# grid = target_encoding(grid, ['date_block_num', 'item_id', 'subtype_code'], 'item_cnt_month', 'subtype_avg_item_cnt', [1])"
   ]
  },
  {
   "cell_type": "markdown",
   "metadata": {
    "_uuid": "6bcea31d93ab035ca3fa1ed7c0afddbf602c414a",
    "id": "9YE8foSCtodk",
    "papermill": {
     "duration": 0.054282,
     "end_time": "2021-01-21T09:07:12.728589",
     "exception": false,
     "start_time": "2021-01-21T09:07:12.674307",
     "status": "completed"
    },
    "tags": []
   },
   "source": [
    "#### Trend features"
   ]
  },
  {
   "cell_type": "code",
   "execution_count": 25,
   "metadata": {
    "_uuid": "0da2ded8502e273137991fd2bebbadaf19c19622",
    "execution": {
     "iopub.execute_input": "2021-01-21T09:07:12.952620Z",
     "iopub.status.busy": "2021-01-21T09:07:12.951885Z",
     "iopub.status.idle": "2021-01-21T09:12:06.726127Z",
     "shell.execute_reply": "2021-01-21T09:12:06.726666Z"
    },
    "executionInfo": {
     "elapsed": 421338,
     "status": "ok",
     "timestamp": 1612454585682,
     "user": {
      "displayName": "Андрей Лебедев",
      "photoUrl": "https://lh3.googleusercontent.com/a-/AOh14GgXFqF2-mYIOCwrGWlaOWxYeJwApY2NV0JByqh93w=s64",
      "userId": "16435059183355096227"
     },
     "user_tz": -180
    },
    "id": "G_8k_Xo8todk",
    "papermill": {
     "duration": 293.834241,
     "end_time": "2021-01-21T09:12:06.726812",
     "exception": false,
     "start_time": "2021-01-21T09:07:12.892571",
     "status": "completed"
    },
    "tags": []
   },
   "outputs": [],
   "source": [
    "gb = train.groupby(['item_id']).agg({'item_price': ['mean']})\n",
    "gb.columns = ['item_avg_item_price']\n",
    "gb.reset_index(inplace=True)\n",
    "grid = pd.merge(grid, gb, on=['item_id'], how='left')\n",
    "gb = train.groupby(['date_block_num','item_id']).agg({'item_price': ['mean']})\n",
    "gb.columns = ['date_item_avg_item_price']\n",
    "gb.reset_index(inplace=True)\n",
    "grid = pd.merge(grid, gb, on=['date_block_num','item_id'], how='left')"
   ]
  },
  {
   "cell_type": "markdown",
   "metadata": {
    "id": "JU94k9nLiQ9c"
   },
   "source": [
    "Price trend for the last three months."
   ]
  },
  {
   "cell_type": "code",
   "execution_count": 26,
   "metadata": {
    "colab": {
     "base_uri": "https://localhost:8080/"
    },
    "executionInfo": {
     "elapsed": 445066,
     "status": "ok",
     "timestamp": 1612454609412,
     "user": {
      "displayName": "Андрей Лебедев",
      "photoUrl": "https://lh3.googleusercontent.com/a-/AOh14GgXFqF2-mYIOCwrGWlaOWxYeJwApY2NV0JByqh93w=s64",
      "userId": "16435059183355096227"
     },
     "user_tz": -180
    },
    "id": "604aOxvMtodk",
    "outputId": "a1598812-bd87-40c3-f199-60e51eb396cc"
   },
   "outputs": [
    {
     "name": "stdout",
     "output_type": "stream",
     "text": [
      "Turn 1 has started\n",
      "Turn 1 has finished\n",
      "Turn 2 has started\n",
      "Turn 2 has finished\n"
     ]
    }
   ],
   "source": [
    "lags = [1,2]\n",
    "grid = lag_features(grid, lags, 'date_item_avg_item_price')\n",
    "\n",
    "for i in lags:\n",
    "    grid['delta_price_lag_' + str(i)] = (grid['date_item_avg_item_price_lag_' + str(i)] - grid['item_avg_item_price']) / grid['item_avg_item_price']"
   ]
  },
  {
   "cell_type": "code",
   "execution_count": 27,
   "metadata": {
    "executionInfo": {
     "elapsed": 445064,
     "status": "ok",
     "timestamp": 1612454609413,
     "user": {
      "displayName": "Андрей Лебедев",
      "photoUrl": "https://lh3.googleusercontent.com/a-/AOh14GgXFqF2-mYIOCwrGWlaOWxYeJwApY2NV0JByqh93w=s64",
      "userId": "16435059183355096227"
     },
     "user_tz": -180
    },
    "id": "P-1z25w-todl"
   },
   "outputs": [],
   "source": [
    "def select_trend(row):\n",
    "    for i in lags:\n",
    "        if row['delta_price_lag_' + str(i)]:\n",
    "            return row['delta_price_lag_' + str(i)]\n",
    "    return 0"
   ]
  },
  {
   "cell_type": "code",
   "execution_count": 28,
   "metadata": {
    "executionInfo": {
     "elapsed": 605038,
     "status": "ok",
     "timestamp": 1612454769389,
     "user": {
      "displayName": "Андрей Лебедев",
      "photoUrl": "https://lh3.googleusercontent.com/a-/AOh14GgXFqF2-mYIOCwrGWlaOWxYeJwApY2NV0JByqh93w=s64",
      "userId": "16435059183355096227"
     },
     "user_tz": -180
    },
    "id": "KjFOFVFYtodl"
   },
   "outputs": [],
   "source": [
    "grid['delta_price_lag'] = grid.apply(select_trend, axis=1)\n",
    "grid['delta_price_lag'].fillna(0, inplace=True)\n",
    "\n",
    "drop = ['item_avg_item_price', 'date_item_avg_item_price']\n",
    "for i in lags:\n",
    "    drop += ['date_item_avg_item_price_lag_' + str(i)]\n",
    "    drop += ['delta_price_lag_' + str(i)]\n",
    "\n",
    "grid.drop(drop, axis=1, inplace=True)"
   ]
  },
  {
   "cell_type": "markdown",
   "metadata": {
    "_uuid": "17765ddb48f52abd88847a42c0a3ffe974e5b121",
    "id": "_TYaUk9-todm",
    "papermill": {
     "duration": 0.055114,
     "end_time": "2021-01-21T09:12:06.837725",
     "exception": false,
     "start_time": "2021-01-21T09:12:06.782611",
     "status": "completed"
    },
    "tags": []
   },
   "source": [
    "Last month shop revenue trend."
   ]
  },
  {
   "cell_type": "code",
   "execution_count": 29,
   "metadata": {
    "_uuid": "e633be47f1a22b41487866ce67fb874bd296339e",
    "execution": {
     "iopub.execute_input": "2021-01-21T09:12:06.962868Z",
     "iopub.status.busy": "2021-01-21T09:12:06.958029Z",
     "iopub.status.idle": "2021-01-21T09:12:27.684525Z",
     "shell.execute_reply": "2021-01-21T09:12:27.683920Z"
    },
    "executionInfo": {
     "elapsed": 614383,
     "status": "ok",
     "timestamp": 1612454778736,
     "user": {
      "displayName": "Андрей Лебедев",
      "photoUrl": "https://lh3.googleusercontent.com/a-/AOh14GgXFqF2-mYIOCwrGWlaOWxYeJwApY2NV0JByqh93w=s64",
      "userId": "16435059183355096227"
     },
     "user_tz": -180
    },
    "id": "A01uTgNCtodm",
    "papermill": {
     "duration": 20.791724,
     "end_time": "2021-01-21T09:12:27.684658",
     "exception": false,
     "start_time": "2021-01-21T09:12:06.892934",
     "status": "completed"
    },
    "tags": []
   },
   "outputs": [],
   "source": [
    "gb = train.groupby(['date_block_num','shop_id']).agg({'revenue': ['sum']})\n",
    "gb.columns = ['date_shop_revenue']\n",
    "gb.reset_index(inplace=True)\n",
    "grid = pd.merge(grid, gb, on=['date_block_num','shop_id'], how='left')\n",
    "grid['date_shop_revenue'] = grid['date_shop_revenue'].astype(np.float32)"
   ]
  },
  {
   "cell_type": "code",
   "execution_count": 30,
   "metadata": {
    "executionInfo": {
     "elapsed": 616615,
     "status": "ok",
     "timestamp": 1612454780969,
     "user": {
      "displayName": "Андрей Лебедев",
      "photoUrl": "https://lh3.googleusercontent.com/a-/AOh14GgXFqF2-mYIOCwrGWlaOWxYeJwApY2NV0JByqh93w=s64",
      "userId": "16435059183355096227"
     },
     "user_tz": -180
    },
    "id": "OfW3AWUNjpZz"
   },
   "outputs": [],
   "source": [
    "gb = gb.groupby(['shop_id']).agg({'date_shop_revenue': ['mean']})\n",
    "gb.columns = ['shop_avg_revenue']\n",
    "gb.reset_index(inplace=True)\n",
    "grid = pd.merge(grid, gb, on=['shop_id'], how='left')\n",
    "grid['shop_avg_revenue'] = grid['shop_avg_revenue'].astype(np.float32)"
   ]
  },
  {
   "cell_type": "code",
   "execution_count": 32,
   "metadata": {
    "colab": {
     "base_uri": "https://localhost:8080/"
    },
    "executionInfo": {
     "elapsed": 25284,
     "status": "ok",
     "timestamp": 1612454920983,
     "user": {
      "displayName": "Андрей Лебедев",
      "photoUrl": "https://lh3.googleusercontent.com/a-/AOh14GgXFqF2-mYIOCwrGWlaOWxYeJwApY2NV0JByqh93w=s64",
      "userId": "16435059183355096227"
     },
     "user_tz": -180
    },
    "id": "grZQiwXpjpL2",
    "outputId": "9eedcf3d-858c-42a9-d837-e6fe08e2f6da"
   },
   "outputs": [
    {
     "name": "stdout",
     "output_type": "stream",
     "text": [
      "Turn 1 has started\n",
      "Turn 1 has finished\n"
     ]
    }
   ],
   "source": [
    "grid['delta_revenue'] = (grid['date_shop_revenue'] - grid['shop_avg_revenue']) / grid['shop_avg_revenue']\n",
    "grid['delta_revenue'] =grid['delta_revenue'].astype(np.float32)\n",
    "grid = lag_features(grid, [1], 'delta_revenue')\n",
    "grid.drop(['date_shop_revenue','shop_avg_revenue','delta_revenue'], axis=1, inplace=True)"
   ]
  },
  {
   "cell_type": "markdown",
   "metadata": {
    "_uuid": "47e06af411b7d26cd93dad3d6735e48e5fbdee50",
    "id": "tsSWpzOCtodn",
    "papermill": {
     "duration": 0.055711,
     "end_time": "2021-01-21T09:12:27.797300",
     "exception": false,
     "start_time": "2021-01-21T09:12:27.741589",
     "status": "completed"
    },
    "tags": []
   },
   "source": [
    "## Add month and year"
   ]
  },
  {
   "cell_type": "code",
   "execution_count": 33,
   "metadata": {
    "_uuid": "bb521e1f33d4124a3b90b47447bdb29150770b6e",
    "execution": {
     "iopub.execute_input": "2021-01-21T09:12:27.919985Z",
     "iopub.status.busy": "2021-01-21T09:12:27.919198Z",
     "iopub.status.idle": "2021-01-21T09:12:28.040916Z",
     "shell.execute_reply": "2021-01-21T09:12:28.040335Z"
    },
    "executionInfo": {
     "elapsed": 21661,
     "status": "ok",
     "timestamp": 1612454921242,
     "user": {
      "displayName": "Андрей Лебедев",
      "photoUrl": "https://lh3.googleusercontent.com/a-/AOh14GgXFqF2-mYIOCwrGWlaOWxYeJwApY2NV0JByqh93w=s64",
      "userId": "16435059183355096227"
     },
     "user_tz": -180
    },
    "id": "jY0b4K-qtodn",
    "papermill": {
     "duration": 0.18582,
     "end_time": "2021-01-21T09:12:28.041053",
     "exception": false,
     "start_time": "2021-01-21T09:12:27.855233",
     "status": "completed"
    },
    "tags": []
   },
   "outputs": [],
   "source": [
    "grid['month'] = grid['date_block_num'] % 12\n",
    "grid['year'] = (grid['date_block_num'] / 12)"
   ]
  },
  {
   "cell_type": "markdown",
   "metadata": {
    "id": "-z3XM392todp",
    "papermill": {
     "duration": 0.057518,
     "end_time": "2021-01-21T09:13:09.544589",
     "exception": false,
     "start_time": "2021-01-21T09:13:09.487071",
     "status": "completed"
    },
    "tags": []
   },
   "source": [
    "## Final preparations\n",
    "Because of the using 12 as lag value drop first 12 months. Also drop all the columns with this month calculated values (other words which can not be calcucated for the test set)."
   ]
  },
  {
   "cell_type": "code",
   "execution_count": null,
   "metadata": {
    "execution": {
     "iopub.execute_input": "2021-01-21T09:13:09.665936Z",
     "iopub.status.busy": "2021-01-21T09:13:09.665223Z",
     "iopub.status.idle": "2021-01-21T09:13:11.830195Z",
     "shell.execute_reply": "2021-01-21T09:13:11.829392Z"
    },
    "id": "pYVYPN9Ntodp",
    "papermill": {
     "duration": 2.22795,
     "end_time": "2021-01-21T09:13:11.830330",
     "exception": false,
     "start_time": "2021-01-21T09:13:09.602380",
     "status": "completed"
    },
    "tags": []
   },
   "outputs": [],
   "source": [
    "grid = grid[grid.date_block_num > 11]\n",
    "grid.columns"
   ]
  },
  {
   "cell_type": "code",
   "execution_count": null,
   "metadata": {
    "execution": {
     "iopub.execute_input": "2021-01-21T09:13:11.956408Z",
     "iopub.status.busy": "2021-01-21T09:13:11.955678Z",
     "iopub.status.idle": "2021-01-21T09:13:15.325713Z",
     "shell.execute_reply": "2021-01-21T09:13:15.326433Z"
    },
    "id": "dRgQf-0ftodp",
    "papermill": {
     "duration": 3.435361,
     "end_time": "2021-01-21T09:13:15.326677",
     "exception": false,
     "start_time": "2021-01-21T09:13:11.891316",
     "status": "completed"
    },
    "tags": []
   },
   "outputs": [],
   "source": [
    "grid.to_csv('grid.csv')\n",
    "del grid\n",
    "del gb\n",
    "del items\n",
    "del shops\n",
    "del categories\n",
    "del train\n",
    "gc.collect();"
   ]
  },
  {
   "cell_type": "code",
   "execution_count": 3,
   "metadata": {
    "id": "YUO004WXvZgt"
   },
   "outputs": [],
   "source": [
    "data = pd.read_csv('grid.csv')"
   ]
  },
  {
   "cell_type": "code",
   "execution_count": 4,
   "metadata": {
    "colab": {
     "base_uri": "https://localhost:8080/"
    },
    "executionInfo": {
     "elapsed": 6735,
     "status": "ok",
     "timestamp": 1612295880908,
     "user": {
      "displayName": "Андрей Лебедев",
      "photoUrl": "https://lh3.googleusercontent.com/a-/AOh14GgXFqF2-mYIOCwrGWlaOWxYeJwApY2NV0JByqh93w=s64",
      "userId": "16435059183355096227"
     },
     "user_tz": -180
    },
    "id": "BkDbZ9jbPcON",
    "outputId": "3ba92a3a-7a01-481f-bfd5-34aaab5f14a9"
   },
   "outputs": [
    {
     "data": {
      "text/plain": [
       "Unnamed: 0                   int64\n",
       "shop_id                      int64\n",
       "item_id                      int64\n",
       "date_block_num               int64\n",
       "item_cnt_month             float64\n",
       "                            ...   \n",
       "type_avg_item_cnt_lag_1    float64\n",
       "delta_price_lag            float64\n",
       "delta_revenue_lag_1        float64\n",
       "month                        int64\n",
       "year                       float64\n",
       "Length: 61, dtype: object"
      ]
     },
     "execution_count": 4,
     "metadata": {},
     "output_type": "execute_result"
    }
   ],
   "source": [
    "data.dtypes"
   ]
  },
  {
   "cell_type": "code",
   "execution_count": 5,
   "metadata": {
    "execution": {
     "iopub.execute_input": "2021-01-21T09:13:17.306055Z",
     "iopub.status.busy": "2021-01-21T09:13:17.305365Z",
     "iopub.status.idle": "2021-01-21T09:13:17.893515Z",
     "shell.execute_reply": "2021-01-21T09:13:17.894068Z"
    },
    "id": "wPDyGAbqtodp",
    "papermill": {
     "duration": 0.652143,
     "end_time": "2021-01-21T09:13:17.894236",
     "exception": false,
     "start_time": "2021-01-21T09:13:17.242093",
     "status": "completed"
    },
    "tags": []
   },
   "outputs": [],
   "source": [
    "data = data[[\n",
    "    'shop_id', 'item_id', 'date_block_num', 'item_cnt_month',\n",
    "       'shop_category', 'shop_city', 'item_category_id', 'subtype_code',\n",
    "       'type_code', 'item_cnt_month_lag_1', 'item_cnt_month_lag_2',\n",
    "       'item_cnt_month_lag_3', 'item_cnt_month_lag_6', 'item_cnt_month_lag_9',\n",
    "       'item_cnt_month_lag_12', 'item_avg_sale_last_12',\n",
    "       'item_std_sale_last_12', 'shop_avg_sale_last_12',\n",
    "       'shop_std_sale_last_12', 'category_avg_sale_last_12',\n",
    "       'category_std_sale_last_12', 'city_avg_sale_last_12',\n",
    "       'city_std_sale_last_12', 'type_avg_sale_last_12',\n",
    "       'type_std_sale_last_12', 'subtype_avg_sale_last_12',\n",
    "       'subtype_std_sale_last_12', 'date_avg_item_cnt_lag_1',\n",
    "       'date_item_avg_item_cnt_lag_1', 'date_item_avg_item_cnt_lag_2',\n",
    "       'date_item_avg_item_cnt_lag_3', 'date_item_avg_item_cnt_lag_6',\n",
    "       'date_item_avg_item_cnt_lag_12', 'date_shop_avg_item_cnt_lag_1',\n",
    "       'date_shop_avg_item_cnt_lag_2', 'date_shop_avg_item_cnt_lag_3',\n",
    "       'date_shop_avg_item_cnt_lag_6', 'date_shop_avg_item_cnt_lag_12',\n",
    "       'date_cat_avg_item_cnt_lag_1', 'date_cat_avg_item_cnt_lag_2',\n",
    "       'date_cat_avg_item_cnt_lag_3', 'date_cat_avg_item_cnt_lag_6',\n",
    "       'date_cat_avg_item_cnt_lag_12', 'date_shop_cat_avg_item_cnt_lag_1_x',\n",
    "       'date_shop_cat_avg_item_cnt_lag_2', 'date_shop_cat_avg_item_cnt_lag_3',\n",
    "       'date_shop_cat_avg_item_cnt_lag_6', 'date_shop_cat_avg_item_cnt_lag_12',\n",
    "       'type_item_cnt_lag_1', 'type_item_cnt_lag_2', 'type_item_cnt_lag_3', \n",
    "       'subtype_item_cnt_lag_1',\n",
    "       'date_shop_cat_avg_item_cnt_lag_1_y', 'date_city_avg_item_cnt_lag_1',\n",
    "       'type_avg_item_cnt_lag_1', 'delta_price_lag', 'delta_revenue_lag_1',\n",
    "       'month', 'year'\n",
    "]]\n",
    "\n",
    "cat_feats = ['shop_id', 'shop_category', 'shop_city', 'item_category_id', 'type_code', 'subtype_code']"
   ]
  },
  {
   "cell_type": "markdown",
   "metadata": {
    "id": "57w7gFuStodp",
    "papermill": {
     "duration": 0.060104,
     "end_time": "2021-01-21T09:13:18.013747",
     "exception": false,
     "start_time": "2021-01-21T09:13:17.953643",
     "status": "completed"
    },
    "tags": []
   },
   "source": [
    "## Modelling and training\n",
    "\n",
    "Here we are just splitting our data into train, valuation and test. Valuation takes only 33rd month because we have to make it with the same logic as in the test set, which is only one month size."
   ]
  },
  {
   "cell_type": "code",
   "execution_count": 6,
   "metadata": {
    "execution": {
     "iopub.execute_input": "2021-01-21T09:13:18.142046Z",
     "iopub.status.busy": "2021-01-21T09:13:18.141319Z",
     "iopub.status.idle": "2021-01-21T09:13:21.781446Z",
     "shell.execute_reply": "2021-01-21T09:13:21.783869Z"
    },
    "id": "4xq9oxTPtodp",
    "papermill": {
     "duration": 3.708031,
     "end_time": "2021-01-21T09:13:21.784674",
     "exception": false,
     "start_time": "2021-01-21T09:13:18.076643",
     "status": "completed"
    },
    "tags": []
   },
   "outputs": [],
   "source": [
    "X_train = data[data.date_block_num < 33].drop(['item_cnt_month'], axis=1)\n",
    "Y_train = data[data.date_block_num < 33]['item_cnt_month']\n",
    "X_val = data[data.date_block_num == 33].drop(['item_cnt_month'], axis=1)\n",
    "Y_val = data[data.date_block_num == 33]['item_cnt_month']\n",
    "X_test = data[data.date_block_num == 34].drop(['item_cnt_month'], axis=1)\n",
    "\n",
    "del data\n",
    "gc.collect();"
   ]
  },
  {
   "cell_type": "markdown",
   "metadata": {
    "id": "kKLJh68L2gH1"
   },
   "source": [
    "#### Models initialization"
   ]
  },
  {
   "cell_type": "markdown",
   "metadata": {
    "id": "y82vH4I82v2I"
   },
   "source": [
    "Timer for models."
   ]
  },
  {
   "cell_type": "code",
   "execution_count": 7,
   "metadata": {
    "id": "h-DB_xtQ2fGn"
   },
   "outputs": [],
   "source": [
    "@contextmanager\n",
    "def timer(logger=None, format_str='{:.3f}[s]', prefix=None, suffix=None):\n",
    "    if prefix: format_str = str(prefix) + format_str\n",
    "    if suffix: format_str = format_str + str(suffix)\n",
    "    start = time.time()\n",
    "    yield\n",
    "    d = time.time() - start\n",
    "    out_str = format_str.format(d)\n",
    "    if logger:\n",
    "        logger.info(out_str)\n",
    "    else:\n",
    "        print(out_str)"
   ]
  },
  {
   "cell_type": "markdown",
   "metadata": {
    "id": "1bU9aLQ_2sqO"
   },
   "source": [
    "Wrapper for LightGBM / XGBoost / CATBoost"
   ]
  },
  {
   "cell_type": "code",
   "execution_count": 24,
   "metadata": {
    "id": "JgJi_VUg2rfw"
   },
   "outputs": [],
   "source": [
    "class TreeModel:\n",
    "    def __init__(self, model_type: str):\n",
    "        self.model_type = model_type\n",
    "        self.trn_data = None\n",
    "        self.val_data = None\n",
    "        self.model = None\n",
    "\n",
    "    def train(self,\n",
    "              params: dict,\n",
    "              X_train: pd.DataFrame, y_train: np.ndarray,\n",
    "              X_val: pd.DataFrame, y_val: np.ndarray,\n",
    "              train_weight: tp.Optional[np.ndarray] = None,\n",
    "              val_weight: tp.Optional[np.ndarray] = None,\n",
    "              train_params: dict = {}):\n",
    "        if self.model_type == \"lgb\":\n",
    "            self.trn_data = lgb.Dataset(X_train, label=y_train, weight=train_weight)\n",
    "            self.val_data = lgb.Dataset(X_val, label=y_val, weight=val_weight)\n",
    "            self.model = lgb.train(params=params,\n",
    "                                   train_set=self.trn_data,\n",
    "                                   valid_sets=[self.trn_data, self.val_data],\n",
    "                                   **train_params)\n",
    "            self.save = self.model.save_model('lgb.txt')\n",
    "        elif self.model_type == \"xgb\":\n",
    "            self.trn_data = xgb.DMatrix(X_train, y_train, weight=train_weight)\n",
    "            self.val_data = xgb.DMatrix(X_val, y_val, weight=val_weight)\n",
    "            self.model = xgb.train(params=params,\n",
    "                                   dtrain=self.trn_data,\n",
    "                                   evals=[(self.trn_data, \"train\"), (self.val_data, \"val\")],\n",
    "                                   **train_params)\n",
    "            self.save = self.model.save_model('xgb.json')\n",
    "        elif self.model_type == \"cat\":\n",
    "            self.trn_data = Pool(X_train, label=y_train, group_id=[0] * len(X_train))\n",
    "            self.val_data =  Pool(X_val, label=y_val, group_id=[0] * len(X_val))\n",
    "            self.model = CatBoost(params)\n",
    "            self.model.fit(\n",
    "                self.trn_data, eval_set=[self.val_data], use_best_model=True, **train_params)\n",
    "            self.save = self.model.save_model('cat.json', format='json')\n",
    "        else:\n",
    "            raise NotImplementedError\n",
    "\n",
    "    def predict(self, X: pd.DataFrame):\n",
    "        if self.model_type == \"lgb\":\n",
    "            return self.model.predict(\n",
    "                X, num_iteration=self.model.best_iteration)  # type: ignore\n",
    "        elif self.model_type == \"xgb\":\n",
    "            X_DM = xgb.DMatrix(X)\n",
    "            return self.model.predict(\n",
    "                X_DM, ntree_limit=self.model.best_ntree_limit)  # type: ignore\n",
    "        elif self.model_type == \"cat\":\n",
    "            return self.model.predict(X)\n",
    "        else:\n",
    "            raise NotImplementedError\n",
    "\n",
    "    @property\n",
    "    def feature_names_(self):\n",
    "        if self.model_type == \"lgb\":\n",
    "            return self.model.feature_name()\n",
    "        elif self.model_type == \"xgb\":\n",
    "            return list(self.model.get_score(importance_type=\"gain\").keys())\n",
    "        elif self.model_type == \"cat\":\n",
    "             return self.model.feature_names_\n",
    "        else:\n",
    "            raise NotImplementedError\n",
    "\n",
    "    @property\n",
    "    def feature_importances_(self):\n",
    "        if self.model_type == \"lgb\":\n",
    "            return self.model.feature_importance(importance_type=\"gain\")\n",
    "        elif self.model_type == \"xgb\":\n",
    "            return list(self.model.get_score(importance_type=\"gain\").values())\n",
    "        elif self.model_type == \"cat\":\n",
    "            return self.model.feature_importances_\n",
    "        else:\n",
    "            raise NotImplementedError"
   ]
  },
  {
   "cell_type": "markdown",
   "metadata": {
    "id": "lxNgV0mK3pEE"
   },
   "source": [
    "Universal function for calling LightGBM, XGBoost or Catboost. It was changed a little bit from the original look due to the time series we are predicting for this champ."
   ]
  },
  {
   "cell_type": "code",
   "execution_count": 22,
   "metadata": {
    "id": "hN05kGzl3rYg"
   },
   "outputs": [],
   "source": [
    "def run_train_and_inference(X_train, X_val, X_test, Y_train, Y_val, use_model, model_params, train_params, seed_list, n_splits):\n",
    "    \n",
    "    import xgboost as xgb\n",
    "    import lightgbm as lgb\n",
    "    import catboost as cat\n",
    "    \n",
    "    oof_pred_arr = np.zeros(len(X_val))\n",
    "    test_pred_arr = np.zeros(len(X_test))\n",
    "    feature_importances = pd.DataFrame()\n",
    "    score_list = []\n",
    "    Y_test = np.zeros(len(X_test))\n",
    "    \n",
    "    for seed in seed_list:\n",
    "        fold = 1\n",
    "        if use_model == \"cat\":\n",
    "            model_params['random_state'] = seed\n",
    "        else:\n",
    "            model_params[\"seed\"] = seed\n",
    "        tmp_oof_pred = np.zeros(len(X_val))\n",
    "        tmp_test_pred = np.zeros(len(X_test))\n",
    "        print(\"*\" * 100)\n",
    "        print(f\"Seed: {seed}\")\n",
    "\n",
    "        model = TreeModel(model_type=use_model)\n",
    "        with timer(prefix=\"Model training \"):\n",
    "            model.train(\n",
    "                params=model_params, X_train=X_train, y_train=Y_train,\n",
    "                X_val=X_val, y_val=Y_val, train_params=train_params)\n",
    "        fi_tmp = pd.DataFrame()\n",
    "        fi_tmp[\"feature\"] = model.feature_names_\n",
    "        fi_tmp[\"importance\"] = model.feature_importances_\n",
    "        fi_tmp[\"fold\"] = fold\n",
    "        fi_tmp[\"seed\"] = seed\n",
    "        feature_importances = feature_importances.append(fi_tmp)\n",
    "\n",
    "        val_pred = model.predict(X_val)\n",
    "        score = mean_squared_error(Y_val, val_pred, squared=False)\n",
    "        print(f\"score: {score:.5f}\")\n",
    "        score_list.append([seed, fold, score])\n",
    "        tmp_oof_pred = val_pred\n",
    "        tmp_test_pred += model.predict(X_test)\n",
    "            \n",
    "        oof_score = mean_squared_error(Y_val, tmp_oof_pred, squared=False)\n",
    "        print(f\"oof score: {oof_score: 5f}\")\n",
    "        score_list.append([seed, \"oof\", oof_score])\n",
    "\n",
    "        oof_pred_arr += tmp_oof_pred\n",
    "        test_pred_arr += tmp_test_pred / n_splits\n",
    "\n",
    "    oof_pred_arr /= len(seed_list)\n",
    "    test_pred_arr /= len(seed_list)\n",
    "    \n",
    "    oof_score = mean_squared_error(Y_val, oof_pred_arr, squared=False)\n",
    "    score_list.append([\"avg\", oof_score])\n",
    "    score_df = pd.DataFrame(\n",
    "        score_list, columns=[\"seed\", \"fold\", \"rmse score\"])\n",
    "    \n",
    "    return oof_pred_arr, test_pred_arr, score_df, feature_importances"
   ]
  },
  {
   "cell_type": "code",
   "execution_count": 10,
   "metadata": {
    "id": "jNty9jBl3yT6"
   },
   "outputs": [],
   "source": [
    "N_SPLITS = 1\n",
    "RANDOM_SEED_LIST = [\n",
    "    1003,\n",
    "    # 2021, 0, 1086, 39\n",
    "]\n",
    "\n",
    "MODEL_PARAMS = {\n",
    "    \"lgb\": {\n",
    "        'objective': 'regression',\n",
    "        'metric': 'rmse',\n",
    "        'verbosity': -1,\n",
    "        'boosting_type': 'gbdt',\n",
    "        'feature_pre_filter': False,\n",
    "        'lambda_l1': 0.0,\n",
    "        'lambda_l2': 0.0,\n",
    "        'num_leaves': 102,\n",
    "        'feature_fraction': 0.4,\n",
    "        'bagging_fraction': 1.0,\n",
    "        'bagging_freq': 0,\n",
    "        'min_child_samples': 20,\n",
    "        'learning_rate': 0.05,\n",
    "        'max_depth': 8\n",
    "    },\n",
    "    \"xgb\": {\n",
    "        \"objective\": \"reg:squarederror\",\n",
    "        \"learning_rate\": 0.1,\n",
    "        \"seed\": RANDOM_SEED_LIST[0],\n",
    "        \"max_depth\": 10,\n",
    "        \"subsample\": .8,\n",
    "        \"colsample_bytree\": .8,\n",
    "        \"n_jobs\": 2,\n",
    "        \"tree_method\": \"auto\",\n",
    "        \"min_child_weight\": 0.5\n",
    "    },\n",
    "    \"cat\": {\n",
    "        'loss_function': 'RMSE',\n",
    "        'learning_rate': 0.1,\n",
    "        'max_depth': 7,\n",
    "        'random_state': RANDOM_SEED_LIST[0],\n",
    "        \"thread_count\": 2,\n",
    "        'num_boost_round': 1000,\n",
    "    }\n",
    "}\n",
    "TRAIN_PARAMS = {\n",
    "    \"lgb\": {\n",
    "        'categorical_feature': cat_feats,\n",
    "        \"num_boost_round\": 1000,\n",
    "        \"early_stopping_rounds\": 200,\n",
    "        \"verbose_eval\": 100,\n",
    "    },\n",
    "    \"xgb\": {\n",
    "        \"num_boost_round\": 1000,\n",
    "        \"early_stopping_rounds\": 200,\n",
    "        \"verbose_eval\":  100,\n",
    "    },\n",
    "    \"cat\": {\n",
    "        'early_stopping_rounds': 200, \n",
    "        'verbose_eval': 100,\n",
    "    }\n",
    "}"
   ]
  },
  {
   "cell_type": "markdown",
   "metadata": {
    "id": "VgxBixYq34Lk"
   },
   "source": [
    "#### Light GBM\n",
    "Making a prediction for LightGBM model."
   ]
  },
  {
   "cell_type": "code",
   "execution_count": 39,
   "metadata": {},
   "outputs": [],
   "source": [
    "# Uncomment row under to load model. Than you can try anything you want with it.\n",
    "# lgbmod = lgb.Booster(model_file='lgb.txt')"
   ]
  },
  {
   "cell_type": "code",
   "execution_count": 25,
   "metadata": {
    "id": "ybWEIEDm30z-",
    "outputId": "90476755-b08b-400c-a810-91a262723ed4"
   },
   "outputs": [
    {
     "name": "stdout",
     "output_type": "stream",
     "text": [
      "****************************************************************************************************\n",
      "Seed: 1003\n",
      "Training until validation scores don't improve for 200 rounds\n",
      "[100]\ttraining's rmse: 0.793336\tvalid_1's rmse: 0.898669\n",
      "[200]\ttraining's rmse: 0.768866\tvalid_1's rmse: 0.900688\n",
      "Early stopping, best iteration is:\n",
      "[73]\ttraining's rmse: 0.804516\tvalid_1's rmse: 0.89756\n",
      "Model training 56.131[s]\n",
      "score: 0.89756\n",
      "oof score:  0.897560\n"
     ]
    }
   ],
   "source": [
    "oof_pred_lgb, test_pred_lgb, score_lgb, feat_imps_lgb = run_train_and_inference(\n",
    "    X_train, X_val, X_test, Y_train, Y_val,  \"lgb\", MODEL_PARAMS[\"lgb\"], TRAIN_PARAMS[\"lgb\"], RANDOM_SEED_LIST, N_SPLITS)"
   ]
  },
  {
   "cell_type": "code",
   "execution_count": 26,
   "metadata": {
    "id": "pxnJjtha4BKV"
   },
   "outputs": [
    {
     "data": {
      "text/html": [
       "<div>\n",
       "<style scoped>\n",
       "    .dataframe tbody tr th:only-of-type {\n",
       "        vertical-align: middle;\n",
       "    }\n",
       "\n",
       "    .dataframe tbody tr th {\n",
       "        vertical-align: top;\n",
       "    }\n",
       "\n",
       "    .dataframe thead th {\n",
       "        text-align: right;\n",
       "    }\n",
       "</style>\n",
       "<table border=\"1\" class=\"dataframe\">\n",
       "  <thead>\n",
       "    <tr style=\"text-align: right;\">\n",
       "      <th></th>\n",
       "      <th>seed</th>\n",
       "      <th>fold</th>\n",
       "      <th>rmse score</th>\n",
       "    </tr>\n",
       "  </thead>\n",
       "  <tbody>\n",
       "    <tr>\n",
       "      <th>0</th>\n",
       "      <td>1003</td>\n",
       "      <td>1</td>\n",
       "      <td>0.89756</td>\n",
       "    </tr>\n",
       "    <tr>\n",
       "      <th>1</th>\n",
       "      <td>1003</td>\n",
       "      <td>oof</td>\n",
       "      <td>0.89756</td>\n",
       "    </tr>\n",
       "    <tr>\n",
       "      <th>2</th>\n",
       "      <td>avg</td>\n",
       "      <td>0.89756</td>\n",
       "      <td>NaN</td>\n",
       "    </tr>\n",
       "  </tbody>\n",
       "</table>\n",
       "</div>"
      ],
      "text/plain": [
       "   seed     fold  rmse score\n",
       "0  1003        1     0.89756\n",
       "1  1003      oof     0.89756\n",
       "2   avg  0.89756         NaN"
      ]
     },
     "execution_count": 26,
     "metadata": {},
     "output_type": "execute_result"
    }
   ],
   "source": [
    "score_lgb"
   ]
  },
  {
   "cell_type": "code",
   "execution_count": 27,
   "metadata": {
    "id": "woe76pVA4Csi"
   },
   "outputs": [
    {
     "data": {
      "text/html": [
       "<div>\n",
       "<style scoped>\n",
       "    .dataframe tbody tr th:only-of-type {\n",
       "        vertical-align: middle;\n",
       "    }\n",
       "\n",
       "    .dataframe tbody tr th {\n",
       "        vertical-align: top;\n",
       "    }\n",
       "\n",
       "    .dataframe thead th {\n",
       "        text-align: right;\n",
       "    }\n",
       "</style>\n",
       "<table border=\"1\" class=\"dataframe\">\n",
       "  <thead>\n",
       "    <tr style=\"text-align: right;\">\n",
       "      <th></th>\n",
       "      <th>seed</th>\n",
       "      <th>fold</th>\n",
       "      <th>rmse score</th>\n",
       "    </tr>\n",
       "  </thead>\n",
       "  <tbody>\n",
       "    <tr>\n",
       "      <th>1</th>\n",
       "      <td>1003</td>\n",
       "      <td>oof</td>\n",
       "      <td>0.89756</td>\n",
       "    </tr>\n",
       "  </tbody>\n",
       "</table>\n",
       "</div>"
      ],
      "text/plain": [
       "   seed fold  rmse score\n",
       "1  1003  oof     0.89756"
      ]
     },
     "execution_count": 27,
     "metadata": {},
     "output_type": "execute_result"
    }
   ],
   "source": [
    "score_lgb.loc[score_lgb.fold == \"oof\"]"
   ]
  },
  {
   "cell_type": "markdown",
   "metadata": {
    "id": "OWbiQL0U4FPl"
   },
   "source": [
    "Here we are building histogram for the importance level of the features."
   ]
  },
  {
   "cell_type": "code",
   "execution_count": 28,
   "metadata": {
    "id": "NDs0t4cb4C-O"
   },
   "outputs": [
    {
     "data": {
      "image/png": "[encoded data removed]",
      "text/plain": [
       "<Figure size 720x720 with 1 Axes>"
      ]
     },
     "metadata": {
      "needs_background": "light"
     },
     "output_type": "display_data"
    }
   ],
   "source": [
    "order = list(feat_imps_lgb.groupby(\"feature\").mean().sort_values(\"importance\", ascending=False).index)\n",
    "plt.figure(figsize=(10, 10))\n",
    "sns.barplot(x=\"importance\", y=\"feature\", data=feat_imps_lgb, order=order)\n",
    "plt.title(\"{} importance\".format(\"lgb\"))\n",
    "plt.tight_layout()"
   ]
  },
  {
   "cell_type": "markdown",
   "metadata": {
    "id": "lK58BCd67ZYj"
   },
   "source": [
    "#### XGBoost\n",
    "Making a prediction for XGBoost model."
   ]
  },
  {
   "cell_type": "code",
   "execution_count": 46,
   "metadata": {},
   "outputs": [],
   "source": [
    "# Uncomment rows under to load model. Than you can try anything you want with it.\n",
    "# xgbmod = xgb.XGBRegressor()\n",
    "# booster = xgb.Booster()\n",
    "# booster.load_model('xgb.json')\n",
    "# xgbmod._Booster = booster"
   ]
  },
  {
   "cell_type": "code",
   "execution_count": 29,
   "metadata": {
    "id": "Z2RAM49_7ZYl",
    "outputId": "87d61002-ac90-4d1a-ee1d-0f99b2e803ae"
   },
   "outputs": [
    {
     "name": "stdout",
     "output_type": "stream",
     "text": [
      "****************************************************************************************************\n",
      "Seed: 1003\n",
      "[0]\ttrain-rmse:1.15883\tval-rmse:1.11946\n",
      "[100]\ttrain-rmse:0.70205\tval-rmse:0.91422\n",
      "[200]\ttrain-rmse:0.66003\tval-rmse:0.92553\n",
      "[223]\ttrain-rmse:0.65336\tval-rmse:0.92664\n",
      "Model training 5017.560[s]\n",
      "score: 0.90093\n",
      "oof score:  0.900933\n"
     ]
    }
   ],
   "source": [
    "oof_pred_xgb, test_pred_xgb, score_xgb, feat_imps_xgb = run_train_and_inference(\n",
    "    X_train, X_val, X_test, Y_train, Y_val,  \"xgb\", MODEL_PARAMS[\"xgb\"], TRAIN_PARAMS[\"xgb\"], RANDOM_SEED_LIST, N_SPLITS)"
   ]
  },
  {
   "cell_type": "code",
   "execution_count": 33,
   "metadata": {
    "id": "psvAnTU97ZYl",
    "outputId": "6afaf000-7904-4d41-bfa2-92e76497ebe5"
   },
   "outputs": [
    {
     "data": {
      "text/html": [
       "<div>\n",
       "<style scoped>\n",
       "    .dataframe tbody tr th:only-of-type {\n",
       "        vertical-align: middle;\n",
       "    }\n",
       "\n",
       "    .dataframe tbody tr th {\n",
       "        vertical-align: top;\n",
       "    }\n",
       "\n",
       "    .dataframe thead th {\n",
       "        text-align: right;\n",
       "    }\n",
       "</style>\n",
       "<table border=\"1\" class=\"dataframe\">\n",
       "  <thead>\n",
       "    <tr style=\"text-align: right;\">\n",
       "      <th></th>\n",
       "      <th>seed</th>\n",
       "      <th>fold</th>\n",
       "      <th>rmse score</th>\n",
       "    </tr>\n",
       "  </thead>\n",
       "  <tbody>\n",
       "    <tr>\n",
       "      <th>0</th>\n",
       "      <td>1003</td>\n",
       "      <td>1</td>\n",
       "      <td>0.900933</td>\n",
       "    </tr>\n",
       "    <tr>\n",
       "      <th>1</th>\n",
       "      <td>1003</td>\n",
       "      <td>oof</td>\n",
       "      <td>0.900933</td>\n",
       "    </tr>\n",
       "    <tr>\n",
       "      <th>2</th>\n",
       "      <td>avg</td>\n",
       "      <td>0.900933</td>\n",
       "      <td>NaN</td>\n",
       "    </tr>\n",
       "  </tbody>\n",
       "</table>\n",
       "</div>"
      ],
      "text/plain": [
       "   seed      fold  rmse score\n",
       "0  1003         1    0.900933\n",
       "1  1003       oof    0.900933\n",
       "2   avg  0.900933         NaN"
      ]
     },
     "execution_count": 33,
     "metadata": {},
     "output_type": "execute_result"
    }
   ],
   "source": [
    "score_xgb"
   ]
  },
  {
   "cell_type": "code",
   "execution_count": 34,
   "metadata": {
    "id": "XtEbWAAY7ZYm",
    "outputId": "6abae7bf-91f6-4b8d-e4f7-d4d8feec396b"
   },
   "outputs": [
    {
     "data": {
      "text/html": [
       "<div>\n",
       "<style scoped>\n",
       "    .dataframe tbody tr th:only-of-type {\n",
       "        vertical-align: middle;\n",
       "    }\n",
       "\n",
       "    .dataframe tbody tr th {\n",
       "        vertical-align: top;\n",
       "    }\n",
       "\n",
       "    .dataframe thead th {\n",
       "        text-align: right;\n",
       "    }\n",
       "</style>\n",
       "<table border=\"1\" class=\"dataframe\">\n",
       "  <thead>\n",
       "    <tr style=\"text-align: right;\">\n",
       "      <th></th>\n",
       "      <th>seed</th>\n",
       "      <th>fold</th>\n",
       "      <th>rmse score</th>\n",
       "    </tr>\n",
       "  </thead>\n",
       "  <tbody>\n",
       "    <tr>\n",
       "      <th>1</th>\n",
       "      <td>1003</td>\n",
       "      <td>oof</td>\n",
       "      <td>0.900933</td>\n",
       "    </tr>\n",
       "  </tbody>\n",
       "</table>\n",
       "</div>"
      ],
      "text/plain": [
       "   seed fold  rmse score\n",
       "1  1003  oof    0.900933"
      ]
     },
     "execution_count": 34,
     "metadata": {},
     "output_type": "execute_result"
    }
   ],
   "source": [
    "score_xgb.loc[score_xgb.fold == \"oof\"]"
   ]
  },
  {
   "cell_type": "markdown",
   "metadata": {
    "id": "CxCYe_9h7ZYn"
   },
   "source": [
    "Here we are building histogram for the importance level of the features."
   ]
  },
  {
   "cell_type": "code",
   "execution_count": 32,
   "metadata": {
    "id": "t-Q5xCfo7ZYn",
    "outputId": "67686a88-6611-4864-8984-f6e9624f3b04"
   },
   "outputs": [
    {
     "data": {
      "image/png": "[encoded data removed]",
      "text/plain": [
       "<Figure size 720x720 with 1 Axes>"
      ]
     },
     "metadata": {
      "needs_background": "light"
     },
     "output_type": "display_data"
    }
   ],
   "source": [
    "order = list(feat_imps_xgb.groupby(\"feature\").mean().sort_values(\"importance\", ascending=False).index)\n",
    "plt.figure(figsize=(10, 10))\n",
    "sns.barplot(x=\"importance\", y=\"feature\", data=feat_imps_xgb, order=order)\n",
    "plt.title(\"{} importance\".format(\"xgb\"))\n",
    "plt.tight_layout()"
   ]
  },
  {
   "cell_type": "markdown",
   "metadata": {
    "id": "Za2X4zM07asZ"
   },
   "source": [
    "#### CatBoost\n",
    "Making a prediction for CatBoost model."
   ]
  },
  {
   "cell_type": "code",
   "execution_count": 54,
   "metadata": {},
   "outputs": [
    {
     "data": {
      "text/plain": [
       "<catboost.core.CatBoostRegressor at 0x29856f1d808>"
      ]
     },
     "execution_count": 54,
     "metadata": {},
     "output_type": "execute_result"
    }
   ],
   "source": [
    "# Uncomment rows under to load model. Than you can try anything you want with it.\n",
    "# catmod = CatBoostRegressor()\n",
    "# catmod.load_model('cat.json', format='json')"
   ]
  },
  {
   "cell_type": "code",
   "execution_count": 35,
   "metadata": {
    "id": "z9hyu_fx7asZ",
    "outputId": "7f367f7c-9516-4654-8235-be032ad101ea"
   },
   "outputs": [
    {
     "name": "stdout",
     "output_type": "stream",
     "text": [
      "****************************************************************************************************\n",
      "Seed: 1003\n",
      "0:\tlearn: 1.1452250\ttest: 1.1068994\tbest: 1.1068994 (0)\ttotal: 1.36s\tremaining: 22m 42s\n",
      "100:\tlearn: 0.8296146\ttest: 0.9121683\tbest: 0.9121683 (100)\ttotal: 1m 56s\tremaining: 17m 12s\n",
      "200:\tlearn: 0.8066814\ttest: 0.9011367\tbest: 0.9008004 (192)\ttotal: 3m 47s\tremaining: 15m 4s\n",
      "300:\tlearn: 0.7926609\ttest: 0.9009928\tbest: 0.9001405 (214)\ttotal: 5m 42s\tremaining: 13m 15s\n",
      "400:\tlearn: 0.7812071\ttest: 0.9053477\tbest: 0.8999610 (325)\ttotal: 7m 36s\tremaining: 11m 22s\n",
      "500:\tlearn: 0.7726129\ttest: 0.9037978\tbest: 0.8999610 (325)\ttotal: 9m 29s\tremaining: 9m 27s\n",
      "Stopped by overfitting detector  (200 iterations wait)\n",
      "\n",
      "bestTest = 0.8999610133\n",
      "bestIteration = 325\n",
      "\n",
      "Shrink model to first 326 iterations.\n",
      "Model training 610.238[s]\n",
      "score: 0.89996\n",
      "oof score:  0.899961\n"
     ]
    }
   ],
   "source": [
    "oof_pred_cat, test_pred_cat, score_cat, feat_imps_cat = run_train_and_inference(\n",
    "    X_train, X_val, X_test, Y_train, Y_val,  \"cat\", MODEL_PARAMS[\"cat\"], TRAIN_PARAMS[\"cat\"], RANDOM_SEED_LIST, N_SPLITS)"
   ]
  },
  {
   "cell_type": "code",
   "execution_count": 37,
   "metadata": {
    "id": "Qpj8Tzlv7asa",
    "outputId": "b6422c30-8f6b-4162-e86f-371ffdc38d9b"
   },
   "outputs": [
    {
     "data": {
      "text/html": [
       "<div>\n",
       "<style scoped>\n",
       "    .dataframe tbody tr th:only-of-type {\n",
       "        vertical-align: middle;\n",
       "    }\n",
       "\n",
       "    .dataframe tbody tr th {\n",
       "        vertical-align: top;\n",
       "    }\n",
       "\n",
       "    .dataframe thead th {\n",
       "        text-align: right;\n",
       "    }\n",
       "</style>\n",
       "<table border=\"1\" class=\"dataframe\">\n",
       "  <thead>\n",
       "    <tr style=\"text-align: right;\">\n",
       "      <th></th>\n",
       "      <th>seed</th>\n",
       "      <th>fold</th>\n",
       "      <th>rmse score</th>\n",
       "    </tr>\n",
       "  </thead>\n",
       "  <tbody>\n",
       "    <tr>\n",
       "      <th>0</th>\n",
       "      <td>1003</td>\n",
       "      <td>1</td>\n",
       "      <td>0.899961</td>\n",
       "    </tr>\n",
       "    <tr>\n",
       "      <th>1</th>\n",
       "      <td>1003</td>\n",
       "      <td>oof</td>\n",
       "      <td>0.899961</td>\n",
       "    </tr>\n",
       "    <tr>\n",
       "      <th>2</th>\n",
       "      <td>avg</td>\n",
       "      <td>0.899961</td>\n",
       "      <td>NaN</td>\n",
       "    </tr>\n",
       "  </tbody>\n",
       "</table>\n",
       "</div>"
      ],
      "text/plain": [
       "   seed      fold  rmse score\n",
       "0  1003         1    0.899961\n",
       "1  1003       oof    0.899961\n",
       "2   avg  0.899961         NaN"
      ]
     },
     "execution_count": 37,
     "metadata": {},
     "output_type": "execute_result"
    }
   ],
   "source": [
    "score_cat"
   ]
  },
  {
   "cell_type": "code",
   "execution_count": 36,
   "metadata": {
    "id": "vZy2VQFZ7asa",
    "outputId": "18843d3d-133e-4263-f113-2c7c9017c5e4"
   },
   "outputs": [
    {
     "data": {
      "text/html": [
       "<div>\n",
       "<style scoped>\n",
       "    .dataframe tbody tr th:only-of-type {\n",
       "        vertical-align: middle;\n",
       "    }\n",
       "\n",
       "    .dataframe tbody tr th {\n",
       "        vertical-align: top;\n",
       "    }\n",
       "\n",
       "    .dataframe thead th {\n",
       "        text-align: right;\n",
       "    }\n",
       "</style>\n",
       "<table border=\"1\" class=\"dataframe\">\n",
       "  <thead>\n",
       "    <tr style=\"text-align: right;\">\n",
       "      <th></th>\n",
       "      <th>seed</th>\n",
       "      <th>fold</th>\n",
       "      <th>rmse score</th>\n",
       "    </tr>\n",
       "  </thead>\n",
       "  <tbody>\n",
       "    <tr>\n",
       "      <th>1</th>\n",
       "      <td>1003</td>\n",
       "      <td>oof</td>\n",
       "      <td>0.899961</td>\n",
       "    </tr>\n",
       "  </tbody>\n",
       "</table>\n",
       "</div>"
      ],
      "text/plain": [
       "   seed fold  rmse score\n",
       "1  1003  oof    0.899961"
      ]
     },
     "execution_count": 36,
     "metadata": {},
     "output_type": "execute_result"
    }
   ],
   "source": [
    "score_cat.loc[score_cat.fold == \"oof\"]"
   ]
  },
  {
   "cell_type": "markdown",
   "metadata": {
    "id": "GwzJUoUW7asa"
   },
   "source": [
    "Here we are building histogram for the importance level of the features."
   ]
  },
  {
   "cell_type": "code",
   "execution_count": 38,
   "metadata": {
    "id": "-1wYwcUb7asa",
    "outputId": "57ee5b2b-c5ed-4e9d-fecb-b870a27d8372"
   },
   "outputs": [
    {
     "data": {
      "image/png": "[encoded data removed]",
      "text/plain": [
       "<Figure size 720x720 with 1 Axes>"
      ]
     },
     "metadata": {
      "needs_background": "light"
     },
     "output_type": "display_data"
    }
   ],
   "source": [
    "order = list(feat_imps_cat.groupby(\"feature\").mean().sort_values(\"importance\", ascending=False).index)\n",
    "plt.figure(figsize=(10, 10))\n",
    "sns.barplot(x=\"importance\", y=\"feature\", data=feat_imps_cat, order=order)\n",
    "plt.title(\"{} importance\".format(\"cat\"))\n",
    "plt.tight_layout()"
   ]
  },
  {
   "cell_type": "markdown",
   "metadata": {
    "id": "YnMfDldU7zjC"
   },
   "source": [
    "#### Ensemble LightGBM, XGBoost, Catboost"
   ]
  },
  {
   "cell_type": "markdown",
   "metadata": {
    "id": "DrcS_U6878fq"
   },
   "source": [
    "Ensembling three models with different weights due to their validation performance."
   ]
  },
  {
   "cell_type": "code",
   "execution_count": null,
   "metadata": {
    "id": "KVPMINY_76Hj",
    "outputId": "55b4307f-807a-4b7a-d0f0-2f2f8e779295"
   },
   "outputs": [
    {
     "name": "stdout",
     "output_type": "stream",
     "text": [
      "oof score avg: 0.89240\n"
     ]
    }
   ],
   "source": [
    "oof_pred_avg = oof_pred_lgb*0.45 + oof_pred_xgb*0.2 + oof_pred_cat*0.35\n",
    "oof_score_avg = mean_squared_error(Y_val, oof_pred_avg, squared=False)\n",
    "\n",
    "print(f\"oof score avg: {oof_score_avg:.5f}\")"
   ]
  },
  {
   "cell_type": "markdown",
   "metadata": {
    "id": "_wT1SfgtCUKP"
   },
   "source": [
    "Making final prediction."
   ]
  },
  {
   "cell_type": "code",
   "execution_count": null,
   "metadata": {
    "id": "jD59_aR3CTmS"
   },
   "outputs": [],
   "source": [
    "test_pred_avg = test_pred_lgb*0.45 + test_pred_xgb*0.2 + test_pred_cat*0.35"
   ]
  },
  {
   "cell_type": "code",
   "execution_count": null,
   "metadata": {
    "id": "ZEB2CKS6vZg1"
   },
   "outputs": [],
   "source": [
    "sub = pd.DataFrame({\"ID\": test.index, \"item_cnt_month\": test_pred_avg})"
   ]
  },
  {
   "cell_type": "code",
   "execution_count": null,
   "metadata": {
    "id": "MURITfrtCYRl"
   },
   "outputs": [],
   "source": [
    "sub.to_csv('pds_ens.csv', index=None)"
   ]
  }
 ],
 "metadata": {
  "colab": {
   "collapsed_sections": [
    "Za2X4zM07asZ",
    "YnMfDldU7zjC"
   ],
   "name": "predict_future_sales.ipynb",
   "provenance": [],
   "toc_visible": true
  },
  "kernelspec": {
   "display_name": "Python 3",
   "language": "python",
   "name": "python3"
  },
  "language_info": {
   "codemirror_mode": {
    "name": "ipython",
    "version": 3
   },
   "file_extension": ".py",
   "mimetype": "text/x-python",
   "name": "python",
   "nbconvert_exporter": "python",
   "pygments_lexer": "ipython3",
   "version": "3.7.6"
  },
  "papermill": {
   "duration": 3901.450323,
   "end_time": "2021-01-21T10:07:23.144375",
   "environment_variables": {},
   "exception": null,
   "input_path": "__notebook__.ipynb",
   "output_path": "__notebook__.ipynb",
   "parameters": {},
   "start_time": "2021-01-21T09:02:21.694052",
   "version": "2.1.0"
  }
 },
 "nbformat": 4,
 "nbformat_minor": 1
}
